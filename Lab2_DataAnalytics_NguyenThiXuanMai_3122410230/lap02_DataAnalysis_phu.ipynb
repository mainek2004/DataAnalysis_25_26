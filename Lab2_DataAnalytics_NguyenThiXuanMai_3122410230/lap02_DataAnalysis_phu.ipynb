{
  "nbformat": 4,
  "nbformat_minor": 0,
  "metadata": {
    "colab": {
      "provenance": []
    },
    "kernelspec": {
      "name": "python3",
      "display_name": "Python 3"
    },
    "language_info": {
      "name": "python"
    }
  },
  "cells": [
    {
      "cell_type": "markdown",
      "source": [
        "#CHAPTER 13 : Data Analysis Examples"
      ],
      "metadata": {
        "id": "8JWyZ5jKPESi"
      }
    },
    {
      "cell_type": "markdown",
      "source": [
        "#13.4 USDA Food Database"
      ],
      "metadata": {
        "id": "7fC5eP8RO9_T"
      }
    },
    {
      "cell_type": "markdown",
      "source": [
        "###1. Tạo dữ liệu mẫu (thay cho file JSON)"
      ],
      "metadata": {
        "id": "zNxnXxX5TIJM"
      }
    },
    {
      "cell_type": "code",
      "execution_count": null,
      "metadata": {
        "colab": {
          "base_uri": "https://localhost:8080/"
        },
        "id": "OMhgyCyWOZd4",
        "outputId": "24355322-7453-42c4-f981-e434a07ee9c2"
      },
      "outputs": [
        {
          "output_type": "execute_result",
          "data": {
            "text/plain": [
              "340"
            ]
          },
          "metadata": {},
          "execution_count": 1
        }
      ],
      "source": [
        "import json\n",
        "import pandas as pd\n",
        "\n",
        "json_path = \"/content/drive/MyDrive/Data_Analysis/lap02/FoodData_Central_foundation_food_json_2025-04-24.json\"\n",
        "\n",
        "with open(json_path, \"r\", encoding=\"utf-8\") as f:\n",
        "    db_raw = json.load(f)\n",
        "if isinstance(db_raw, dict) and \"FoundationFoods\" in db_raw:\n",
        "    db = db_raw[\"FoundationFoods\"]\n",
        "elif isinstance(db_raw, list):\n",
        "    db = db_raw\n",
        "else:\n",
        "    raise ValueError(\"Không nhận diện được cấu trúc JSON FDC.\")\n",
        "\n",
        "len(db)"
      ]
    },
    {
      "cell_type": "markdown",
      "source": [
        "###2. Khảo sát cấu trúc bản ghi"
      ],
      "metadata": {
        "id": "74ioavv8UX3D"
      }
    },
    {
      "cell_type": "code",
      "source": [
        "db[0].keys()\n",
        "# Đối với FDC, nutrients nằm trong 'foodNutrients'\n",
        "first_nuts = pd.DataFrame(db[0][\"foodNutrients\"])\n",
        "first_nuts.head(7)\n"
      ],
      "metadata": {
        "id": "CB-LIyhcUWz8",
        "colab": {
          "base_uri": "https://localhost:8080/",
          "height": 269
        },
        "outputId": "b98fd490-0976-4cac-c912-158e1378c352"
      },
      "execution_count": null,
      "outputs": [
        {
          "output_type": "execute_result",
          "data": {
            "text/plain": [
              "           type       id                                           nutrient  \\\n",
              "0  FoodNutrient  2219707  {'id': 1120, 'number': '334', 'name': 'Cryptox...   \n",
              "1  FoodNutrient  2219708  {'id': 1122, 'number': '337', 'name': 'Lycopen...   \n",
              "2  FoodNutrient  2219709  {'id': 1127, 'number': '343', 'name': 'Tocophe...   \n",
              "3  FoodNutrient  2219710  {'id': 1130, 'number': '346', 'name': 'Tocotri...   \n",
              "4  FoodNutrient  2219711  {'id': 1131, 'number': '347', 'name': 'Tocotri...   \n",
              "5  FoodNutrient  2219712  {'id': 1162, 'number': '401', 'name': 'Vitamin...   \n",
              "6  FoodNutrient  2219713  {'id': 1165, 'number': '404', 'name': 'Thiamin...   \n",
              "\n",
              "   dataPoints                             foodNutrientDerivation  median  \\\n",
              "0         1.0  {'code': 'A', 'description': 'Analytical', 'fo...    3.00   \n",
              "1         1.0  {'code': 'A', 'description': 'Analytical', 'fo...    0.00   \n",
              "2         6.0  {'code': 'A', 'description': 'Analytical', 'fo...    1.21   \n",
              "3         6.0  {'code': 'A', 'description': 'Analytical', 'fo...    0.00   \n",
              "4         6.0  {'code': 'A', 'description': 'Analytical', 'fo...    0.00   \n",
              "5         6.0  {'code': 'A', 'description': 'Analytical', 'fo...    0.00   \n",
              "6         6.0  {'code': 'A', 'description': 'Analytical', 'fo...    0.16   \n",
              "\n",
              "   amount   max   min  \n",
              "0    3.00   NaN   NaN  \n",
              "1    0.00   NaN   NaN  \n",
              "2    1.30  2.47  0.26  \n",
              "3    0.00  0.00  0.00  \n",
              "4    0.00  0.00  0.00  \n",
              "5    0.00  0.00  0.00  \n",
              "6    0.15  0.17  0.12  "
            ],
            "text/html": [
              "\n",
              "  <div id=\"df-dd2bb1e7-1b9d-4ddb-a737-6900737e6c5f\" class=\"colab-df-container\">\n",
              "    <div>\n",
              "<style scoped>\n",
              "    .dataframe tbody tr th:only-of-type {\n",
              "        vertical-align: middle;\n",
              "    }\n",
              "\n",
              "    .dataframe tbody tr th {\n",
              "        vertical-align: top;\n",
              "    }\n",
              "\n",
              "    .dataframe thead th {\n",
              "        text-align: right;\n",
              "    }\n",
              "</style>\n",
              "<table border=\"1\" class=\"dataframe\">\n",
              "  <thead>\n",
              "    <tr style=\"text-align: right;\">\n",
              "      <th></th>\n",
              "      <th>type</th>\n",
              "      <th>id</th>\n",
              "      <th>nutrient</th>\n",
              "      <th>dataPoints</th>\n",
              "      <th>foodNutrientDerivation</th>\n",
              "      <th>median</th>\n",
              "      <th>amount</th>\n",
              "      <th>max</th>\n",
              "      <th>min</th>\n",
              "    </tr>\n",
              "  </thead>\n",
              "  <tbody>\n",
              "    <tr>\n",
              "      <th>0</th>\n",
              "      <td>FoodNutrient</td>\n",
              "      <td>2219707</td>\n",
              "      <td>{'id': 1120, 'number': '334', 'name': 'Cryptox...</td>\n",
              "      <td>1.0</td>\n",
              "      <td>{'code': 'A', 'description': 'Analytical', 'fo...</td>\n",
              "      <td>3.00</td>\n",
              "      <td>3.00</td>\n",
              "      <td>NaN</td>\n",
              "      <td>NaN</td>\n",
              "    </tr>\n",
              "    <tr>\n",
              "      <th>1</th>\n",
              "      <td>FoodNutrient</td>\n",
              "      <td>2219708</td>\n",
              "      <td>{'id': 1122, 'number': '337', 'name': 'Lycopen...</td>\n",
              "      <td>1.0</td>\n",
              "      <td>{'code': 'A', 'description': 'Analytical', 'fo...</td>\n",
              "      <td>0.00</td>\n",
              "      <td>0.00</td>\n",
              "      <td>NaN</td>\n",
              "      <td>NaN</td>\n",
              "    </tr>\n",
              "    <tr>\n",
              "      <th>2</th>\n",
              "      <td>FoodNutrient</td>\n",
              "      <td>2219709</td>\n",
              "      <td>{'id': 1127, 'number': '343', 'name': 'Tocophe...</td>\n",
              "      <td>6.0</td>\n",
              "      <td>{'code': 'A', 'description': 'Analytical', 'fo...</td>\n",
              "      <td>1.21</td>\n",
              "      <td>1.30</td>\n",
              "      <td>2.47</td>\n",
              "      <td>0.26</td>\n",
              "    </tr>\n",
              "    <tr>\n",
              "      <th>3</th>\n",
              "      <td>FoodNutrient</td>\n",
              "      <td>2219710</td>\n",
              "      <td>{'id': 1130, 'number': '346', 'name': 'Tocotri...</td>\n",
              "      <td>6.0</td>\n",
              "      <td>{'code': 'A', 'description': 'Analytical', 'fo...</td>\n",
              "      <td>0.00</td>\n",
              "      <td>0.00</td>\n",
              "      <td>0.00</td>\n",
              "      <td>0.00</td>\n",
              "    </tr>\n",
              "    <tr>\n",
              "      <th>4</th>\n",
              "      <td>FoodNutrient</td>\n",
              "      <td>2219711</td>\n",
              "      <td>{'id': 1131, 'number': '347', 'name': 'Tocotri...</td>\n",
              "      <td>6.0</td>\n",
              "      <td>{'code': 'A', 'description': 'Analytical', 'fo...</td>\n",
              "      <td>0.00</td>\n",
              "      <td>0.00</td>\n",
              "      <td>0.00</td>\n",
              "      <td>0.00</td>\n",
              "    </tr>\n",
              "    <tr>\n",
              "      <th>5</th>\n",
              "      <td>FoodNutrient</td>\n",
              "      <td>2219712</td>\n",
              "      <td>{'id': 1162, 'number': '401', 'name': 'Vitamin...</td>\n",
              "      <td>6.0</td>\n",
              "      <td>{'code': 'A', 'description': 'Analytical', 'fo...</td>\n",
              "      <td>0.00</td>\n",
              "      <td>0.00</td>\n",
              "      <td>0.00</td>\n",
              "      <td>0.00</td>\n",
              "    </tr>\n",
              "    <tr>\n",
              "      <th>6</th>\n",
              "      <td>FoodNutrient</td>\n",
              "      <td>2219713</td>\n",
              "      <td>{'id': 1165, 'number': '404', 'name': 'Thiamin...</td>\n",
              "      <td>6.0</td>\n",
              "      <td>{'code': 'A', 'description': 'Analytical', 'fo...</td>\n",
              "      <td>0.16</td>\n",
              "      <td>0.15</td>\n",
              "      <td>0.17</td>\n",
              "      <td>0.12</td>\n",
              "    </tr>\n",
              "  </tbody>\n",
              "</table>\n",
              "</div>\n",
              "    <div class=\"colab-df-buttons\">\n",
              "\n",
              "  <div class=\"colab-df-container\">\n",
              "    <button class=\"colab-df-convert\" onclick=\"convertToInteractive('df-dd2bb1e7-1b9d-4ddb-a737-6900737e6c5f')\"\n",
              "            title=\"Convert this dataframe to an interactive table.\"\n",
              "            style=\"display:none;\">\n",
              "\n",
              "  <svg xmlns=\"http://www.w3.org/2000/svg\" height=\"24px\" viewBox=\"0 -960 960 960\">\n",
              "    <path d=\"M120-120v-720h720v720H120Zm60-500h600v-160H180v160Zm220 220h160v-160H400v160Zm0 220h160v-160H400v160ZM180-400h160v-160H180v160Zm440 0h160v-160H620v160ZM180-180h160v-160H180v160Zm440 0h160v-160H620v160Z\"/>\n",
              "  </svg>\n",
              "    </button>\n",
              "\n",
              "  <style>\n",
              "    .colab-df-container {\n",
              "      display:flex;\n",
              "      gap: 12px;\n",
              "    }\n",
              "\n",
              "    .colab-df-convert {\n",
              "      background-color: #E8F0FE;\n",
              "      border: none;\n",
              "      border-radius: 50%;\n",
              "      cursor: pointer;\n",
              "      display: none;\n",
              "      fill: #1967D2;\n",
              "      height: 32px;\n",
              "      padding: 0 0 0 0;\n",
              "      width: 32px;\n",
              "    }\n",
              "\n",
              "    .colab-df-convert:hover {\n",
              "      background-color: #E2EBFA;\n",
              "      box-shadow: 0px 1px 2px rgba(60, 64, 67, 0.3), 0px 1px 3px 1px rgba(60, 64, 67, 0.15);\n",
              "      fill: #174EA6;\n",
              "    }\n",
              "\n",
              "    .colab-df-buttons div {\n",
              "      margin-bottom: 4px;\n",
              "    }\n",
              "\n",
              "    [theme=dark] .colab-df-convert {\n",
              "      background-color: #3B4455;\n",
              "      fill: #D2E3FC;\n",
              "    }\n",
              "\n",
              "    [theme=dark] .colab-df-convert:hover {\n",
              "      background-color: #434B5C;\n",
              "      box-shadow: 0px 1px 3px 1px rgba(0, 0, 0, 0.15);\n",
              "      filter: drop-shadow(0px 1px 2px rgba(0, 0, 0, 0.3));\n",
              "      fill: #FFFFFF;\n",
              "    }\n",
              "  </style>\n",
              "\n",
              "    <script>\n",
              "      const buttonEl =\n",
              "        document.querySelector('#df-dd2bb1e7-1b9d-4ddb-a737-6900737e6c5f button.colab-df-convert');\n",
              "      buttonEl.style.display =\n",
              "        google.colab.kernel.accessAllowed ? 'block' : 'none';\n",
              "\n",
              "      async function convertToInteractive(key) {\n",
              "        const element = document.querySelector('#df-dd2bb1e7-1b9d-4ddb-a737-6900737e6c5f');\n",
              "        const dataTable =\n",
              "          await google.colab.kernel.invokeFunction('convertToInteractive',\n",
              "                                                    [key], {});\n",
              "        if (!dataTable) return;\n",
              "\n",
              "        const docLinkHtml = 'Like what you see? Visit the ' +\n",
              "          '<a target=\"_blank\" href=https://colab.research.google.com/notebooks/data_table.ipynb>data table notebook</a>'\n",
              "          + ' to learn more about interactive tables.';\n",
              "        element.innerHTML = '';\n",
              "        dataTable['output_type'] = 'display_data';\n",
              "        await google.colab.output.renderOutput(dataTable, element);\n",
              "        const docLink = document.createElement('div');\n",
              "        docLink.innerHTML = docLinkHtml;\n",
              "        element.appendChild(docLink);\n",
              "      }\n",
              "    </script>\n",
              "  </div>\n",
              "\n",
              "\n",
              "    <div id=\"df-27afa54d-5134-4eae-b626-acc73c84a0d0\">\n",
              "      <button class=\"colab-df-quickchart\" onclick=\"quickchart('df-27afa54d-5134-4eae-b626-acc73c84a0d0')\"\n",
              "                title=\"Suggest charts\"\n",
              "                style=\"display:none;\">\n",
              "\n",
              "<svg xmlns=\"http://www.w3.org/2000/svg\" height=\"24px\"viewBox=\"0 0 24 24\"\n",
              "     width=\"24px\">\n",
              "    <g>\n",
              "        <path d=\"M19 3H5c-1.1 0-2 .9-2 2v14c0 1.1.9 2 2 2h14c1.1 0 2-.9 2-2V5c0-1.1-.9-2-2-2zM9 17H7v-7h2v7zm4 0h-2V7h2v10zm4 0h-2v-4h2v4z\"/>\n",
              "    </g>\n",
              "</svg>\n",
              "      </button>\n",
              "\n",
              "<style>\n",
              "  .colab-df-quickchart {\n",
              "      --bg-color: #E8F0FE;\n",
              "      --fill-color: #1967D2;\n",
              "      --hover-bg-color: #E2EBFA;\n",
              "      --hover-fill-color: #174EA6;\n",
              "      --disabled-fill-color: #AAA;\n",
              "      --disabled-bg-color: #DDD;\n",
              "  }\n",
              "\n",
              "  [theme=dark] .colab-df-quickchart {\n",
              "      --bg-color: #3B4455;\n",
              "      --fill-color: #D2E3FC;\n",
              "      --hover-bg-color: #434B5C;\n",
              "      --hover-fill-color: #FFFFFF;\n",
              "      --disabled-bg-color: #3B4455;\n",
              "      --disabled-fill-color: #666;\n",
              "  }\n",
              "\n",
              "  .colab-df-quickchart {\n",
              "    background-color: var(--bg-color);\n",
              "    border: none;\n",
              "    border-radius: 50%;\n",
              "    cursor: pointer;\n",
              "    display: none;\n",
              "    fill: var(--fill-color);\n",
              "    height: 32px;\n",
              "    padding: 0;\n",
              "    width: 32px;\n",
              "  }\n",
              "\n",
              "  .colab-df-quickchart:hover {\n",
              "    background-color: var(--hover-bg-color);\n",
              "    box-shadow: 0 1px 2px rgba(60, 64, 67, 0.3), 0 1px 3px 1px rgba(60, 64, 67, 0.15);\n",
              "    fill: var(--button-hover-fill-color);\n",
              "  }\n",
              "\n",
              "  .colab-df-quickchart-complete:disabled,\n",
              "  .colab-df-quickchart-complete:disabled:hover {\n",
              "    background-color: var(--disabled-bg-color);\n",
              "    fill: var(--disabled-fill-color);\n",
              "    box-shadow: none;\n",
              "  }\n",
              "\n",
              "  .colab-df-spinner {\n",
              "    border: 2px solid var(--fill-color);\n",
              "    border-color: transparent;\n",
              "    border-bottom-color: var(--fill-color);\n",
              "    animation:\n",
              "      spin 1s steps(1) infinite;\n",
              "  }\n",
              "\n",
              "  @keyframes spin {\n",
              "    0% {\n",
              "      border-color: transparent;\n",
              "      border-bottom-color: var(--fill-color);\n",
              "      border-left-color: var(--fill-color);\n",
              "    }\n",
              "    20% {\n",
              "      border-color: transparent;\n",
              "      border-left-color: var(--fill-color);\n",
              "      border-top-color: var(--fill-color);\n",
              "    }\n",
              "    30% {\n",
              "      border-color: transparent;\n",
              "      border-left-color: var(--fill-color);\n",
              "      border-top-color: var(--fill-color);\n",
              "      border-right-color: var(--fill-color);\n",
              "    }\n",
              "    40% {\n",
              "      border-color: transparent;\n",
              "      border-right-color: var(--fill-color);\n",
              "      border-top-color: var(--fill-color);\n",
              "    }\n",
              "    60% {\n",
              "      border-color: transparent;\n",
              "      border-right-color: var(--fill-color);\n",
              "    }\n",
              "    80% {\n",
              "      border-color: transparent;\n",
              "      border-right-color: var(--fill-color);\n",
              "      border-bottom-color: var(--fill-color);\n",
              "    }\n",
              "    90% {\n",
              "      border-color: transparent;\n",
              "      border-bottom-color: var(--fill-color);\n",
              "    }\n",
              "  }\n",
              "</style>\n",
              "\n",
              "      <script>\n",
              "        async function quickchart(key) {\n",
              "          const quickchartButtonEl =\n",
              "            document.querySelector('#' + key + ' button');\n",
              "          quickchartButtonEl.disabled = true;  // To prevent multiple clicks.\n",
              "          quickchartButtonEl.classList.add('colab-df-spinner');\n",
              "          try {\n",
              "            const charts = await google.colab.kernel.invokeFunction(\n",
              "                'suggestCharts', [key], {});\n",
              "          } catch (error) {\n",
              "            console.error('Error during call to suggestCharts:', error);\n",
              "          }\n",
              "          quickchartButtonEl.classList.remove('colab-df-spinner');\n",
              "          quickchartButtonEl.classList.add('colab-df-quickchart-complete');\n",
              "        }\n",
              "        (() => {\n",
              "          let quickchartButtonEl =\n",
              "            document.querySelector('#df-27afa54d-5134-4eae-b626-acc73c84a0d0 button');\n",
              "          quickchartButtonEl.style.display =\n",
              "            google.colab.kernel.accessAllowed ? 'block' : 'none';\n",
              "        })();\n",
              "      </script>\n",
              "    </div>\n",
              "\n",
              "    </div>\n",
              "  </div>\n"
            ],
            "application/vnd.google.colaboratory.intrinsic+json": {
              "type": "dataframe",
              "variable_name": "first_nuts",
              "summary": "{\n  \"name\": \"first_nuts\",\n  \"rows\": 119,\n  \"fields\": [\n    {\n      \"column\": \"type\",\n      \"properties\": {\n        \"dtype\": \"category\",\n        \"num_unique_values\": 1,\n        \"samples\": [\n          \"FoodNutrient\"\n        ],\n        \"semantic_type\": \"\",\n        \"description\": \"\"\n      }\n    },\n    {\n      \"column\": \"id\",\n      \"properties\": {\n        \"dtype\": \"number\",\n        \"std\": 34,\n        \"min\": 2219707,\n        \"max\": 2219825,\n        \"num_unique_values\": 119,\n        \"samples\": [\n          2219763\n        ],\n        \"semantic_type\": \"\",\n        \"description\": \"\"\n      }\n    },\n    {\n      \"column\": \"nutrient\",\n      \"properties\": {\n        \"dtype\": \"object\",\n        \"semantic_type\": \"\",\n        \"description\": \"\"\n      }\n    },\n    {\n      \"column\": \"dataPoints\",\n      \"properties\": {\n        \"dtype\": \"number\",\n        \"std\": 2.8857010668898284,\n        \"min\": 1.0,\n        \"max\": 11.0,\n        \"num_unique_values\": 5,\n        \"samples\": [\n          6.0\n        ],\n        \"semantic_type\": \"\",\n        \"description\": \"\"\n      }\n    },\n    {\n      \"column\": \"foodNutrientDerivation\",\n      \"properties\": {\n        \"dtype\": \"object\",\n        \"semantic_type\": \"\",\n        \"description\": \"\"\n      }\n    },\n    {\n      \"column\": \"median\",\n      \"properties\": {\n        \"dtype\": \"number\",\n        \"std\": 63.88236461761018,\n        \"min\": 0.0,\n        \"max\": 444.0,\n        \"num_unique_values\": 56,\n        \"samples\": [\n          3.0\n        ],\n        \"semantic_type\": \"\",\n        \"description\": \"\"\n      }\n    },\n    {\n      \"column\": \"amount\",\n      \"properties\": {\n        \"dtype\": \"number\",\n        \"std\": 104.67086721456228,\n        \"min\": 0.0,\n        \"max\": 960.0,\n        \"num_unique_values\": 70,\n        \"samples\": [\n          8.12\n        ],\n        \"semantic_type\": \"\",\n        \"description\": \"\"\n      }\n    },\n    {\n      \"column\": \"max\",\n      \"properties\": {\n        \"dtype\": \"number\",\n        \"std\": 67.86688300892013,\n        \"min\": 0.0,\n        \"max\": 489.0,\n        \"num_unique_values\": 49,\n        \"samples\": [\n          0.742\n        ],\n        \"semantic_type\": \"\",\n        \"description\": \"\"\n      }\n    },\n    {\n      \"column\": \"min\",\n      \"properties\": {\n        \"dtype\": \"number\",\n        \"std\": 51.4834994602867,\n        \"min\": 0.0,\n        \"max\": 387.0,\n        \"num_unique_values\": 43,\n        \"samples\": [\n          26.0\n        ],\n        \"semantic_type\": \"\",\n        \"description\": \"\"\n      }\n    }\n  ]\n}"
            }
          },
          "metadata": {},
          "execution_count": 2
        }
      ]
    },
    {
      "cell_type": "markdown",
      "source": [
        "Nhận xét:\n",
        "\n",
        "Cấu trúc dữ liệu khá sâu, nhiều trường lồng nhau. Việc hiểu cấu trúc trước khi xử lý là cần thiết để trích xuất đúng thông tin."
      ],
      "metadata": {
        "id": "PnETO0mkf7Yn"
      }
    },
    {
      "cell_type": "markdown",
      "source": [
        "###3. Rút trích bảng “thông tin thực phẩm” (food info)"
      ],
      "metadata": {
        "id": "WFBwjH_EUWt9"
      }
    },
    {
      "cell_type": "code",
      "source": [
        "\n",
        "def _get(obj, path, default=None):\n",
        "    cur = obj\n",
        "    for p in path.split(\".\"):\n",
        "        if cur is None: break\n",
        "        cur = cur.get(p) if isinstance(cur, dict) else None\n",
        "    return default if cur is None else cur\n",
        "\n",
        "info_rows = []\n",
        "for rec in db:\n",
        "    info_rows.append({\n",
        "        \"description\": rec.get(\"description\"),\n",
        "        \"group\": _get(rec, \"foodCategory.description\"),\n",
        "        \"id\": rec.get(\"fdcId\"),\n",
        "        \"manufacturer\": rec.get(\"brandOwner\")  # có thể vắng trong FoundationFoods\n",
        "    })\n",
        "\n",
        "info = pd.DataFrame(info_rows, columns=[\"description\", \"group\", \"id\", \"manufacturer\"])\n",
        "info.head()\n",
        "info.info()\n"
      ],
      "metadata": {
        "id": "6lENGnifUWdQ",
        "colab": {
          "base_uri": "https://localhost:8080/"
        },
        "outputId": "f3099211-7154-4342-a71f-dceb8a82f27e"
      },
      "execution_count": null,
      "outputs": [
        {
          "output_type": "stream",
          "name": "stdout",
          "text": [
            "<class 'pandas.core.frame.DataFrame'>\n",
            "RangeIndex: 340 entries, 0 to 339\n",
            "Data columns (total 4 columns):\n",
            " #   Column        Non-Null Count  Dtype \n",
            "---  ------        --------------  ----- \n",
            " 0   description   340 non-null    object\n",
            " 1   group         340 non-null    object\n",
            " 2   id            340 non-null    int64 \n",
            " 3   manufacturer  0 non-null      object\n",
            "dtypes: int64(1), object(3)\n",
            "memory usage: 10.8+ KB\n"
          ]
        }
      ]
    },
    {
      "cell_type": "markdown",
      "source": [
        "Nhận xét:\n",
        "\n",
        "- Việc kiểm tra này giúp hiểu cấu trúc và kiểu dữ liệu — điều bắt buộc trước khi tạo DataFrame.\n",
        "- Nó cũng cho thấy dữ liệu không đồng nhất: có chỗ thiếu giá trị, có nơi thừa thông tin."
      ],
      "metadata": {
        "id": "l3tO15EWgAc-"
      }
    },
    {
      "cell_type": "markdown",
      "source": [
        "###4. Lắp “bảng dinh dưỡng lớn” từ mọi thực phẩm"
      ],
      "metadata": {
        "id": "v9YWET9hUWTS"
      }
    },
    {
      "cell_type": "code",
      "source": [
        "\n",
        "nutrients_tbl = []\n",
        "for rec in db:\n",
        "    fdc_id = rec.get(\"fdcId\")\n",
        "    nuts = rec.get(\"foodNutrients\", []) or []\n",
        "\n",
        "    rows = []\n",
        "    for n in nuts:\n",
        "        nut_meta = n.get(\"nutrient\", {}) or {}\n",
        "        rows.append({\n",
        "            \"value\": n.get(\"amount\"),\n",
        "            \"units\": nut_meta.get(\"unitName\"),\n",
        "            \"description\": nut_meta.get(\"name\"),\n",
        "            \"group\": None,\n",
        "            \"id\": fdc_id\n",
        "        })\n",
        "    if rows:\n",
        "        fnuts = pd.DataFrame(rows)\n",
        "        nutrients_tbl.append(fnuts)\n",
        "\n",
        "nutrients = pd.concat(nutrients_tbl, ignore_index=True)\n",
        "nutrients.head()\n"
      ],
      "metadata": {
        "id": "ueNGJvt9UWKL",
        "colab": {
          "base_uri": "https://localhost:8080/",
          "height": 206
        },
        "outputId": "156e3f13-a9a7-4b41-a100-0757d168ab45"
      },
      "execution_count": null,
      "outputs": [
        {
          "output_type": "execute_result",
          "data": {
            "text/plain": [
              "   value units          description group      id\n",
              "0    3.0    µg  Cryptoxanthin, beta  None  321358\n",
              "1    0.0    µg             Lycopene  None  321358\n",
              "2    1.3    mg    Tocopherol, delta  None  321358\n",
              "3    0.0    mg   Tocotrienol, gamma  None  321358\n",
              "4    0.0    mg   Tocotrienol, delta  None  321358"
            ],
            "text/html": [
              "\n",
              "  <div id=\"df-101fb382-5746-4ffe-83dc-78f3b3a1eab8\" class=\"colab-df-container\">\n",
              "    <div>\n",
              "<style scoped>\n",
              "    .dataframe tbody tr th:only-of-type {\n",
              "        vertical-align: middle;\n",
              "    }\n",
              "\n",
              "    .dataframe tbody tr th {\n",
              "        vertical-align: top;\n",
              "    }\n",
              "\n",
              "    .dataframe thead th {\n",
              "        text-align: right;\n",
              "    }\n",
              "</style>\n",
              "<table border=\"1\" class=\"dataframe\">\n",
              "  <thead>\n",
              "    <tr style=\"text-align: right;\">\n",
              "      <th></th>\n",
              "      <th>value</th>\n",
              "      <th>units</th>\n",
              "      <th>description</th>\n",
              "      <th>group</th>\n",
              "      <th>id</th>\n",
              "    </tr>\n",
              "  </thead>\n",
              "  <tbody>\n",
              "    <tr>\n",
              "      <th>0</th>\n",
              "      <td>3.0</td>\n",
              "      <td>µg</td>\n",
              "      <td>Cryptoxanthin, beta</td>\n",
              "      <td>None</td>\n",
              "      <td>321358</td>\n",
              "    </tr>\n",
              "    <tr>\n",
              "      <th>1</th>\n",
              "      <td>0.0</td>\n",
              "      <td>µg</td>\n",
              "      <td>Lycopene</td>\n",
              "      <td>None</td>\n",
              "      <td>321358</td>\n",
              "    </tr>\n",
              "    <tr>\n",
              "      <th>2</th>\n",
              "      <td>1.3</td>\n",
              "      <td>mg</td>\n",
              "      <td>Tocopherol, delta</td>\n",
              "      <td>None</td>\n",
              "      <td>321358</td>\n",
              "    </tr>\n",
              "    <tr>\n",
              "      <th>3</th>\n",
              "      <td>0.0</td>\n",
              "      <td>mg</td>\n",
              "      <td>Tocotrienol, gamma</td>\n",
              "      <td>None</td>\n",
              "      <td>321358</td>\n",
              "    </tr>\n",
              "    <tr>\n",
              "      <th>4</th>\n",
              "      <td>0.0</td>\n",
              "      <td>mg</td>\n",
              "      <td>Tocotrienol, delta</td>\n",
              "      <td>None</td>\n",
              "      <td>321358</td>\n",
              "    </tr>\n",
              "  </tbody>\n",
              "</table>\n",
              "</div>\n",
              "    <div class=\"colab-df-buttons\">\n",
              "\n",
              "  <div class=\"colab-df-container\">\n",
              "    <button class=\"colab-df-convert\" onclick=\"convertToInteractive('df-101fb382-5746-4ffe-83dc-78f3b3a1eab8')\"\n",
              "            title=\"Convert this dataframe to an interactive table.\"\n",
              "            style=\"display:none;\">\n",
              "\n",
              "  <svg xmlns=\"http://www.w3.org/2000/svg\" height=\"24px\" viewBox=\"0 -960 960 960\">\n",
              "    <path d=\"M120-120v-720h720v720H120Zm60-500h600v-160H180v160Zm220 220h160v-160H400v160Zm0 220h160v-160H400v160ZM180-400h160v-160H180v160Zm440 0h160v-160H620v160ZM180-180h160v-160H180v160Zm440 0h160v-160H620v160Z\"/>\n",
              "  </svg>\n",
              "    </button>\n",
              "\n",
              "  <style>\n",
              "    .colab-df-container {\n",
              "      display:flex;\n",
              "      gap: 12px;\n",
              "    }\n",
              "\n",
              "    .colab-df-convert {\n",
              "      background-color: #E8F0FE;\n",
              "      border: none;\n",
              "      border-radius: 50%;\n",
              "      cursor: pointer;\n",
              "      display: none;\n",
              "      fill: #1967D2;\n",
              "      height: 32px;\n",
              "      padding: 0 0 0 0;\n",
              "      width: 32px;\n",
              "    }\n",
              "\n",
              "    .colab-df-convert:hover {\n",
              "      background-color: #E2EBFA;\n",
              "      box-shadow: 0px 1px 2px rgba(60, 64, 67, 0.3), 0px 1px 3px 1px rgba(60, 64, 67, 0.15);\n",
              "      fill: #174EA6;\n",
              "    }\n",
              "\n",
              "    .colab-df-buttons div {\n",
              "      margin-bottom: 4px;\n",
              "    }\n",
              "\n",
              "    [theme=dark] .colab-df-convert {\n",
              "      background-color: #3B4455;\n",
              "      fill: #D2E3FC;\n",
              "    }\n",
              "\n",
              "    [theme=dark] .colab-df-convert:hover {\n",
              "      background-color: #434B5C;\n",
              "      box-shadow: 0px 1px 3px 1px rgba(0, 0, 0, 0.15);\n",
              "      filter: drop-shadow(0px 1px 2px rgba(0, 0, 0, 0.3));\n",
              "      fill: #FFFFFF;\n",
              "    }\n",
              "  </style>\n",
              "\n",
              "    <script>\n",
              "      const buttonEl =\n",
              "        document.querySelector('#df-101fb382-5746-4ffe-83dc-78f3b3a1eab8 button.colab-df-convert');\n",
              "      buttonEl.style.display =\n",
              "        google.colab.kernel.accessAllowed ? 'block' : 'none';\n",
              "\n",
              "      async function convertToInteractive(key) {\n",
              "        const element = document.querySelector('#df-101fb382-5746-4ffe-83dc-78f3b3a1eab8');\n",
              "        const dataTable =\n",
              "          await google.colab.kernel.invokeFunction('convertToInteractive',\n",
              "                                                    [key], {});\n",
              "        if (!dataTable) return;\n",
              "\n",
              "        const docLinkHtml = 'Like what you see? Visit the ' +\n",
              "          '<a target=\"_blank\" href=https://colab.research.google.com/notebooks/data_table.ipynb>data table notebook</a>'\n",
              "          + ' to learn more about interactive tables.';\n",
              "        element.innerHTML = '';\n",
              "        dataTable['output_type'] = 'display_data';\n",
              "        await google.colab.output.renderOutput(dataTable, element);\n",
              "        const docLink = document.createElement('div');\n",
              "        docLink.innerHTML = docLinkHtml;\n",
              "        element.appendChild(docLink);\n",
              "      }\n",
              "    </script>\n",
              "  </div>\n",
              "\n",
              "\n",
              "    <div id=\"df-83bf8c17-df18-4aea-9272-2cc84a20f73e\">\n",
              "      <button class=\"colab-df-quickchart\" onclick=\"quickchart('df-83bf8c17-df18-4aea-9272-2cc84a20f73e')\"\n",
              "                title=\"Suggest charts\"\n",
              "                style=\"display:none;\">\n",
              "\n",
              "<svg xmlns=\"http://www.w3.org/2000/svg\" height=\"24px\"viewBox=\"0 0 24 24\"\n",
              "     width=\"24px\">\n",
              "    <g>\n",
              "        <path d=\"M19 3H5c-1.1 0-2 .9-2 2v14c0 1.1.9 2 2 2h14c1.1 0 2-.9 2-2V5c0-1.1-.9-2-2-2zM9 17H7v-7h2v7zm4 0h-2V7h2v10zm4 0h-2v-4h2v4z\"/>\n",
              "    </g>\n",
              "</svg>\n",
              "      </button>\n",
              "\n",
              "<style>\n",
              "  .colab-df-quickchart {\n",
              "      --bg-color: #E8F0FE;\n",
              "      --fill-color: #1967D2;\n",
              "      --hover-bg-color: #E2EBFA;\n",
              "      --hover-fill-color: #174EA6;\n",
              "      --disabled-fill-color: #AAA;\n",
              "      --disabled-bg-color: #DDD;\n",
              "  }\n",
              "\n",
              "  [theme=dark] .colab-df-quickchart {\n",
              "      --bg-color: #3B4455;\n",
              "      --fill-color: #D2E3FC;\n",
              "      --hover-bg-color: #434B5C;\n",
              "      --hover-fill-color: #FFFFFF;\n",
              "      --disabled-bg-color: #3B4455;\n",
              "      --disabled-fill-color: #666;\n",
              "  }\n",
              "\n",
              "  .colab-df-quickchart {\n",
              "    background-color: var(--bg-color);\n",
              "    border: none;\n",
              "    border-radius: 50%;\n",
              "    cursor: pointer;\n",
              "    display: none;\n",
              "    fill: var(--fill-color);\n",
              "    height: 32px;\n",
              "    padding: 0;\n",
              "    width: 32px;\n",
              "  }\n",
              "\n",
              "  .colab-df-quickchart:hover {\n",
              "    background-color: var(--hover-bg-color);\n",
              "    box-shadow: 0 1px 2px rgba(60, 64, 67, 0.3), 0 1px 3px 1px rgba(60, 64, 67, 0.15);\n",
              "    fill: var(--button-hover-fill-color);\n",
              "  }\n",
              "\n",
              "  .colab-df-quickchart-complete:disabled,\n",
              "  .colab-df-quickchart-complete:disabled:hover {\n",
              "    background-color: var(--disabled-bg-color);\n",
              "    fill: var(--disabled-fill-color);\n",
              "    box-shadow: none;\n",
              "  }\n",
              "\n",
              "  .colab-df-spinner {\n",
              "    border: 2px solid var(--fill-color);\n",
              "    border-color: transparent;\n",
              "    border-bottom-color: var(--fill-color);\n",
              "    animation:\n",
              "      spin 1s steps(1) infinite;\n",
              "  }\n",
              "\n",
              "  @keyframes spin {\n",
              "    0% {\n",
              "      border-color: transparent;\n",
              "      border-bottom-color: var(--fill-color);\n",
              "      border-left-color: var(--fill-color);\n",
              "    }\n",
              "    20% {\n",
              "      border-color: transparent;\n",
              "      border-left-color: var(--fill-color);\n",
              "      border-top-color: var(--fill-color);\n",
              "    }\n",
              "    30% {\n",
              "      border-color: transparent;\n",
              "      border-left-color: var(--fill-color);\n",
              "      border-top-color: var(--fill-color);\n",
              "      border-right-color: var(--fill-color);\n",
              "    }\n",
              "    40% {\n",
              "      border-color: transparent;\n",
              "      border-right-color: var(--fill-color);\n",
              "      border-top-color: var(--fill-color);\n",
              "    }\n",
              "    60% {\n",
              "      border-color: transparent;\n",
              "      border-right-color: var(--fill-color);\n",
              "    }\n",
              "    80% {\n",
              "      border-color: transparent;\n",
              "      border-right-color: var(--fill-color);\n",
              "      border-bottom-color: var(--fill-color);\n",
              "    }\n",
              "    90% {\n",
              "      border-color: transparent;\n",
              "      border-bottom-color: var(--fill-color);\n",
              "    }\n",
              "  }\n",
              "</style>\n",
              "\n",
              "      <script>\n",
              "        async function quickchart(key) {\n",
              "          const quickchartButtonEl =\n",
              "            document.querySelector('#' + key + ' button');\n",
              "          quickchartButtonEl.disabled = true;  // To prevent multiple clicks.\n",
              "          quickchartButtonEl.classList.add('colab-df-spinner');\n",
              "          try {\n",
              "            const charts = await google.colab.kernel.invokeFunction(\n",
              "                'suggestCharts', [key], {});\n",
              "          } catch (error) {\n",
              "            console.error('Error during call to suggestCharts:', error);\n",
              "          }\n",
              "          quickchartButtonEl.classList.remove('colab-df-spinner');\n",
              "          quickchartButtonEl.classList.add('colab-df-quickchart-complete');\n",
              "        }\n",
              "        (() => {\n",
              "          let quickchartButtonEl =\n",
              "            document.querySelector('#df-83bf8c17-df18-4aea-9272-2cc84a20f73e button');\n",
              "          quickchartButtonEl.style.display =\n",
              "            google.colab.kernel.accessAllowed ? 'block' : 'none';\n",
              "        })();\n",
              "      </script>\n",
              "    </div>\n",
              "\n",
              "    </div>\n",
              "  </div>\n"
            ],
            "application/vnd.google.colaboratory.intrinsic+json": {
              "type": "dataframe",
              "variable_name": "nutrients",
              "repr_error": "Out of range float values are not JSON compliant: nan"
            }
          },
          "metadata": {},
          "execution_count": 4
        }
      ]
    },
    {
      "cell_type": "markdown",
      "source": [
        "Nhận xét:\n",
        "- Bảng này tương tự “metadata” — chỉ lưu thông tin định danh.\n",
        "- Một số trường như “manufacturer” bị thiếu, thể hiện dữ liệu thực tế thường không hoàn chỉnh."
      ],
      "metadata": {
        "id": "wUX_nDOFgJ0X"
      }
    },
    {
      "cell_type": "markdown",
      "source": [
        "###5. Đổi tên cột cho rõ ràng"
      ],
      "metadata": {
        "id": "l7aRQsYXccRE"
      }
    },
    {
      "cell_type": "code",
      "source": [
        "# Đổi cột info: description -> food, group -> fgroup\n",
        "info = info.rename(columns={\"description\": \"food\", \"group\": \"fgroup\"}, copy=False)\n",
        "\n",
        "# Đổi cột nutrients: description -> nutrient, group -> nutgroup\n",
        "nutrients = nutrients.rename(columns={\"description\": \"nutrient\", \"group\": \"nutgroup\"}, copy=False)\n",
        "\n",
        "# Do FDC không có nhóm nutrient, ta thay None bằng 'Unknown' cho dễ groupby\n",
        "nutrients[\"nutgroup\"] = nutrients[\"nutgroup\"].fillna(\"Unknown\")\n",
        "\n",
        "info.info()\n",
        "nutrients.head()\n"
      ],
      "metadata": {
        "colab": {
          "base_uri": "https://localhost:8080/",
          "height": 397
        },
        "id": "Qo8B75-lcb40",
        "outputId": "bdd1b924-9161-4b67-f35a-b36424d8ef51"
      },
      "execution_count": null,
      "outputs": [
        {
          "output_type": "stream",
          "name": "stdout",
          "text": [
            "<class 'pandas.core.frame.DataFrame'>\n",
            "RangeIndex: 340 entries, 0 to 339\n",
            "Data columns (total 4 columns):\n",
            " #   Column        Non-Null Count  Dtype \n",
            "---  ------        --------------  ----- \n",
            " 0   food          340 non-null    object\n",
            " 1   fgroup        340 non-null    object\n",
            " 2   id            340 non-null    int64 \n",
            " 3   manufacturer  0 non-null      object\n",
            "dtypes: int64(1), object(3)\n",
            "memory usage: 10.8+ KB\n"
          ]
        },
        {
          "output_type": "execute_result",
          "data": {
            "text/plain": [
              "   value units             nutrient nutgroup      id\n",
              "0    3.0    µg  Cryptoxanthin, beta  Unknown  321358\n",
              "1    0.0    µg             Lycopene  Unknown  321358\n",
              "2    1.3    mg    Tocopherol, delta  Unknown  321358\n",
              "3    0.0    mg   Tocotrienol, gamma  Unknown  321358\n",
              "4    0.0    mg   Tocotrienol, delta  Unknown  321358"
            ],
            "text/html": [
              "\n",
              "  <div id=\"df-a5bc798c-9684-4da0-8e9d-06312ddc0d5d\" class=\"colab-df-container\">\n",
              "    <div>\n",
              "<style scoped>\n",
              "    .dataframe tbody tr th:only-of-type {\n",
              "        vertical-align: middle;\n",
              "    }\n",
              "\n",
              "    .dataframe tbody tr th {\n",
              "        vertical-align: top;\n",
              "    }\n",
              "\n",
              "    .dataframe thead th {\n",
              "        text-align: right;\n",
              "    }\n",
              "</style>\n",
              "<table border=\"1\" class=\"dataframe\">\n",
              "  <thead>\n",
              "    <tr style=\"text-align: right;\">\n",
              "      <th></th>\n",
              "      <th>value</th>\n",
              "      <th>units</th>\n",
              "      <th>nutrient</th>\n",
              "      <th>nutgroup</th>\n",
              "      <th>id</th>\n",
              "    </tr>\n",
              "  </thead>\n",
              "  <tbody>\n",
              "    <tr>\n",
              "      <th>0</th>\n",
              "      <td>3.0</td>\n",
              "      <td>µg</td>\n",
              "      <td>Cryptoxanthin, beta</td>\n",
              "      <td>Unknown</td>\n",
              "      <td>321358</td>\n",
              "    </tr>\n",
              "    <tr>\n",
              "      <th>1</th>\n",
              "      <td>0.0</td>\n",
              "      <td>µg</td>\n",
              "      <td>Lycopene</td>\n",
              "      <td>Unknown</td>\n",
              "      <td>321358</td>\n",
              "    </tr>\n",
              "    <tr>\n",
              "      <th>2</th>\n",
              "      <td>1.3</td>\n",
              "      <td>mg</td>\n",
              "      <td>Tocopherol, delta</td>\n",
              "      <td>Unknown</td>\n",
              "      <td>321358</td>\n",
              "    </tr>\n",
              "    <tr>\n",
              "      <th>3</th>\n",
              "      <td>0.0</td>\n",
              "      <td>mg</td>\n",
              "      <td>Tocotrienol, gamma</td>\n",
              "      <td>Unknown</td>\n",
              "      <td>321358</td>\n",
              "    </tr>\n",
              "    <tr>\n",
              "      <th>4</th>\n",
              "      <td>0.0</td>\n",
              "      <td>mg</td>\n",
              "      <td>Tocotrienol, delta</td>\n",
              "      <td>Unknown</td>\n",
              "      <td>321358</td>\n",
              "    </tr>\n",
              "  </tbody>\n",
              "</table>\n",
              "</div>\n",
              "    <div class=\"colab-df-buttons\">\n",
              "\n",
              "  <div class=\"colab-df-container\">\n",
              "    <button class=\"colab-df-convert\" onclick=\"convertToInteractive('df-a5bc798c-9684-4da0-8e9d-06312ddc0d5d')\"\n",
              "            title=\"Convert this dataframe to an interactive table.\"\n",
              "            style=\"display:none;\">\n",
              "\n",
              "  <svg xmlns=\"http://www.w3.org/2000/svg\" height=\"24px\" viewBox=\"0 -960 960 960\">\n",
              "    <path d=\"M120-120v-720h720v720H120Zm60-500h600v-160H180v160Zm220 220h160v-160H400v160Zm0 220h160v-160H400v160ZM180-400h160v-160H180v160Zm440 0h160v-160H620v160ZM180-180h160v-160H180v160Zm440 0h160v-160H620v160Z\"/>\n",
              "  </svg>\n",
              "    </button>\n",
              "\n",
              "  <style>\n",
              "    .colab-df-container {\n",
              "      display:flex;\n",
              "      gap: 12px;\n",
              "    }\n",
              "\n",
              "    .colab-df-convert {\n",
              "      background-color: #E8F0FE;\n",
              "      border: none;\n",
              "      border-radius: 50%;\n",
              "      cursor: pointer;\n",
              "      display: none;\n",
              "      fill: #1967D2;\n",
              "      height: 32px;\n",
              "      padding: 0 0 0 0;\n",
              "      width: 32px;\n",
              "    }\n",
              "\n",
              "    .colab-df-convert:hover {\n",
              "      background-color: #E2EBFA;\n",
              "      box-shadow: 0px 1px 2px rgba(60, 64, 67, 0.3), 0px 1px 3px 1px rgba(60, 64, 67, 0.15);\n",
              "      fill: #174EA6;\n",
              "    }\n",
              "\n",
              "    .colab-df-buttons div {\n",
              "      margin-bottom: 4px;\n",
              "    }\n",
              "\n",
              "    [theme=dark] .colab-df-convert {\n",
              "      background-color: #3B4455;\n",
              "      fill: #D2E3FC;\n",
              "    }\n",
              "\n",
              "    [theme=dark] .colab-df-convert:hover {\n",
              "      background-color: #434B5C;\n",
              "      box-shadow: 0px 1px 3px 1px rgba(0, 0, 0, 0.15);\n",
              "      filter: drop-shadow(0px 1px 2px rgba(0, 0, 0, 0.3));\n",
              "      fill: #FFFFFF;\n",
              "    }\n",
              "  </style>\n",
              "\n",
              "    <script>\n",
              "      const buttonEl =\n",
              "        document.querySelector('#df-a5bc798c-9684-4da0-8e9d-06312ddc0d5d button.colab-df-convert');\n",
              "      buttonEl.style.display =\n",
              "        google.colab.kernel.accessAllowed ? 'block' : 'none';\n",
              "\n",
              "      async function convertToInteractive(key) {\n",
              "        const element = document.querySelector('#df-a5bc798c-9684-4da0-8e9d-06312ddc0d5d');\n",
              "        const dataTable =\n",
              "          await google.colab.kernel.invokeFunction('convertToInteractive',\n",
              "                                                    [key], {});\n",
              "        if (!dataTable) return;\n",
              "\n",
              "        const docLinkHtml = 'Like what you see? Visit the ' +\n",
              "          '<a target=\"_blank\" href=https://colab.research.google.com/notebooks/data_table.ipynb>data table notebook</a>'\n",
              "          + ' to learn more about interactive tables.';\n",
              "        element.innerHTML = '';\n",
              "        dataTable['output_type'] = 'display_data';\n",
              "        await google.colab.output.renderOutput(dataTable, element);\n",
              "        const docLink = document.createElement('div');\n",
              "        docLink.innerHTML = docLinkHtml;\n",
              "        element.appendChild(docLink);\n",
              "      }\n",
              "    </script>\n",
              "  </div>\n",
              "\n",
              "\n",
              "    <div id=\"df-36b51e4e-4244-4015-8d5a-6961a53862e4\">\n",
              "      <button class=\"colab-df-quickchart\" onclick=\"quickchart('df-36b51e4e-4244-4015-8d5a-6961a53862e4')\"\n",
              "                title=\"Suggest charts\"\n",
              "                style=\"display:none;\">\n",
              "\n",
              "<svg xmlns=\"http://www.w3.org/2000/svg\" height=\"24px\"viewBox=\"0 0 24 24\"\n",
              "     width=\"24px\">\n",
              "    <g>\n",
              "        <path d=\"M19 3H5c-1.1 0-2 .9-2 2v14c0 1.1.9 2 2 2h14c1.1 0 2-.9 2-2V5c0-1.1-.9-2-2-2zM9 17H7v-7h2v7zm4 0h-2V7h2v10zm4 0h-2v-4h2v4z\"/>\n",
              "    </g>\n",
              "</svg>\n",
              "      </button>\n",
              "\n",
              "<style>\n",
              "  .colab-df-quickchart {\n",
              "      --bg-color: #E8F0FE;\n",
              "      --fill-color: #1967D2;\n",
              "      --hover-bg-color: #E2EBFA;\n",
              "      --hover-fill-color: #174EA6;\n",
              "      --disabled-fill-color: #AAA;\n",
              "      --disabled-bg-color: #DDD;\n",
              "  }\n",
              "\n",
              "  [theme=dark] .colab-df-quickchart {\n",
              "      --bg-color: #3B4455;\n",
              "      --fill-color: #D2E3FC;\n",
              "      --hover-bg-color: #434B5C;\n",
              "      --hover-fill-color: #FFFFFF;\n",
              "      --disabled-bg-color: #3B4455;\n",
              "      --disabled-fill-color: #666;\n",
              "  }\n",
              "\n",
              "  .colab-df-quickchart {\n",
              "    background-color: var(--bg-color);\n",
              "    border: none;\n",
              "    border-radius: 50%;\n",
              "    cursor: pointer;\n",
              "    display: none;\n",
              "    fill: var(--fill-color);\n",
              "    height: 32px;\n",
              "    padding: 0;\n",
              "    width: 32px;\n",
              "  }\n",
              "\n",
              "  .colab-df-quickchart:hover {\n",
              "    background-color: var(--hover-bg-color);\n",
              "    box-shadow: 0 1px 2px rgba(60, 64, 67, 0.3), 0 1px 3px 1px rgba(60, 64, 67, 0.15);\n",
              "    fill: var(--button-hover-fill-color);\n",
              "  }\n",
              "\n",
              "  .colab-df-quickchart-complete:disabled,\n",
              "  .colab-df-quickchart-complete:disabled:hover {\n",
              "    background-color: var(--disabled-bg-color);\n",
              "    fill: var(--disabled-fill-color);\n",
              "    box-shadow: none;\n",
              "  }\n",
              "\n",
              "  .colab-df-spinner {\n",
              "    border: 2px solid var(--fill-color);\n",
              "    border-color: transparent;\n",
              "    border-bottom-color: var(--fill-color);\n",
              "    animation:\n",
              "      spin 1s steps(1) infinite;\n",
              "  }\n",
              "\n",
              "  @keyframes spin {\n",
              "    0% {\n",
              "      border-color: transparent;\n",
              "      border-bottom-color: var(--fill-color);\n",
              "      border-left-color: var(--fill-color);\n",
              "    }\n",
              "    20% {\n",
              "      border-color: transparent;\n",
              "      border-left-color: var(--fill-color);\n",
              "      border-top-color: var(--fill-color);\n",
              "    }\n",
              "    30% {\n",
              "      border-color: transparent;\n",
              "      border-left-color: var(--fill-color);\n",
              "      border-top-color: var(--fill-color);\n",
              "      border-right-color: var(--fill-color);\n",
              "    }\n",
              "    40% {\n",
              "      border-color: transparent;\n",
              "      border-right-color: var(--fill-color);\n",
              "      border-top-color: var(--fill-color);\n",
              "    }\n",
              "    60% {\n",
              "      border-color: transparent;\n",
              "      border-right-color: var(--fill-color);\n",
              "    }\n",
              "    80% {\n",
              "      border-color: transparent;\n",
              "      border-right-color: var(--fill-color);\n",
              "      border-bottom-color: var(--fill-color);\n",
              "    }\n",
              "    90% {\n",
              "      border-color: transparent;\n",
              "      border-bottom-color: var(--fill-color);\n",
              "    }\n",
              "  }\n",
              "</style>\n",
              "\n",
              "      <script>\n",
              "        async function quickchart(key) {\n",
              "          const quickchartButtonEl =\n",
              "            document.querySelector('#' + key + ' button');\n",
              "          quickchartButtonEl.disabled = true;  // To prevent multiple clicks.\n",
              "          quickchartButtonEl.classList.add('colab-df-spinner');\n",
              "          try {\n",
              "            const charts = await google.colab.kernel.invokeFunction(\n",
              "                'suggestCharts', [key], {});\n",
              "          } catch (error) {\n",
              "            console.error('Error during call to suggestCharts:', error);\n",
              "          }\n",
              "          quickchartButtonEl.classList.remove('colab-df-spinner');\n",
              "          quickchartButtonEl.classList.add('colab-df-quickchart-complete');\n",
              "        }\n",
              "        (() => {\n",
              "          let quickchartButtonEl =\n",
              "            document.querySelector('#df-36b51e4e-4244-4015-8d5a-6961a53862e4 button');\n",
              "          quickchartButtonEl.style.display =\n",
              "            google.colab.kernel.accessAllowed ? 'block' : 'none';\n",
              "        })();\n",
              "      </script>\n",
              "    </div>\n",
              "\n",
              "    </div>\n",
              "  </div>\n"
            ],
            "application/vnd.google.colaboratory.intrinsic+json": {
              "type": "dataframe",
              "variable_name": "nutrients",
              "summary": "{\n  \"name\": \"nutrients\",\n  \"rows\": 14829,\n  \"fields\": [\n    {\n      \"column\": \"value\",\n      \"properties\": {\n        \"dtype\": \"number\",\n        \"std\": 406.2869938105886,\n        \"min\": -0.705,\n        \"max\": 38700.0,\n        \"num_unique_values\": 2896,\n        \"samples\": [\n          12.1,\n          73.5,\n          5.68\n        ],\n        \"semantic_type\": \"\",\n        \"description\": \"\"\n      }\n    },\n    {\n      \"column\": \"units\",\n      \"properties\": {\n        \"dtype\": \"category\",\n        \"num_unique_values\": 7,\n        \"samples\": [\n          \"\\u00b5g\",\n          \"mg\",\n          \"IU\"\n        ],\n        \"semantic_type\": \"\",\n        \"description\": \"\"\n      }\n    },\n    {\n      \"column\": \"nutrient\",\n      \"properties\": {\n        \"dtype\": \"category\",\n        \"num_unique_values\": 227,\n        \"samples\": [\n          \"Vitamin K (Dihydrophylloquinone)\",\n          \"Alanine\",\n          \"SFA 14:0\"\n        ],\n        \"semantic_type\": \"\",\n        \"description\": \"\"\n      }\n    },\n    {\n      \"column\": \"nutgroup\",\n      \"properties\": {\n        \"dtype\": \"category\",\n        \"num_unique_values\": 1,\n        \"samples\": [\n          \"Unknown\"\n        ],\n        \"semantic_type\": \"\",\n        \"description\": \"\"\n      }\n    },\n    {\n      \"column\": \"id\",\n      \"properties\": {\n        \"dtype\": \"number\",\n        \"std\": 933061,\n        \"min\": 321358,\n        \"max\": 2727589,\n        \"num_unique_values\": 340,\n        \"samples\": [\n          2685580\n        ],\n        \"semantic_type\": \"\",\n        \"description\": \"\"\n      }\n    }\n  ]\n}"
            }
          },
          "metadata": {},
          "execution_count": 6
        }
      ]
    },
    {
      "cell_type": "markdown",
      "source": [
        "Nhận xét:\n",
        "- Bước này cho cái nhìn tổng quan: nhóm nào có nhiều dữ liệu nhất, giúp định hướng phân tích tiếp theo."
      ],
      "metadata": {
        "id": "M8gKWCr0gS-y"
      }
    },
    {
      "cell_type": "markdown",
      "source": [
        "###6. Gộp bảng dinh dưỡng và bảng thông tin (merge)"
      ],
      "metadata": {
        "id": "ivN_NUBAcbyv"
      }
    },
    {
      "cell_type": "code",
      "source": [
        "ndata = pd.merge(nutrients, info, on=\"id\", how=\"inner\")\n",
        "ndata.info()\n",
        "\n",
        "# Ví dụ xem 1 hàng\n",
        "ndata.iloc[0]"
      ],
      "metadata": {
        "colab": {
          "base_uri": "https://localhost:8080/",
          "height": 595
        },
        "id": "z3ez7LOtcbs0",
        "outputId": "abf5ebae-7580-4b5d-d4a9-61b7d7a26ef6"
      },
      "execution_count": null,
      "outputs": [
        {
          "output_type": "stream",
          "name": "stdout",
          "text": [
            "<class 'pandas.core.frame.DataFrame'>\n",
            "RangeIndex: 14829 entries, 0 to 14828\n",
            "Data columns (total 8 columns):\n",
            " #   Column        Non-Null Count  Dtype  \n",
            "---  ------        --------------  -----  \n",
            " 0   value         14802 non-null  float64\n",
            " 1   units         14829 non-null  object \n",
            " 2   nutrient      14829 non-null  object \n",
            " 3   nutgroup      14829 non-null  object \n",
            " 4   id            14829 non-null  int64  \n",
            " 5   food          14829 non-null  object \n",
            " 6   fgroup        14829 non-null  object \n",
            " 7   manufacturer  0 non-null      object \n",
            "dtypes: float64(1), int64(1), object(6)\n",
            "memory usage: 926.9+ KB\n"
          ]
        },
        {
          "output_type": "execute_result",
          "data": {
            "text/plain": [
              "value                                   3.0\n",
              "units                                    µg\n",
              "nutrient                Cryptoxanthin, beta\n",
              "nutgroup                            Unknown\n",
              "id                                   321358\n",
              "food                     Hummus, commercial\n",
              "fgroup          Legumes and Legume Products\n",
              "manufacturer                           None\n",
              "Name: 0, dtype: object"
            ],
            "text/html": [
              "<div>\n",
              "<style scoped>\n",
              "    .dataframe tbody tr th:only-of-type {\n",
              "        vertical-align: middle;\n",
              "    }\n",
              "\n",
              "    .dataframe tbody tr th {\n",
              "        vertical-align: top;\n",
              "    }\n",
              "\n",
              "    .dataframe thead th {\n",
              "        text-align: right;\n",
              "    }\n",
              "</style>\n",
              "<table border=\"1\" class=\"dataframe\">\n",
              "  <thead>\n",
              "    <tr style=\"text-align: right;\">\n",
              "      <th></th>\n",
              "      <th>0</th>\n",
              "    </tr>\n",
              "  </thead>\n",
              "  <tbody>\n",
              "    <tr>\n",
              "      <th>value</th>\n",
              "      <td>3.0</td>\n",
              "    </tr>\n",
              "    <tr>\n",
              "      <th>units</th>\n",
              "      <td>µg</td>\n",
              "    </tr>\n",
              "    <tr>\n",
              "      <th>nutrient</th>\n",
              "      <td>Cryptoxanthin, beta</td>\n",
              "    </tr>\n",
              "    <tr>\n",
              "      <th>nutgroup</th>\n",
              "      <td>Unknown</td>\n",
              "    </tr>\n",
              "    <tr>\n",
              "      <th>id</th>\n",
              "      <td>321358</td>\n",
              "    </tr>\n",
              "    <tr>\n",
              "      <th>food</th>\n",
              "      <td>Hummus, commercial</td>\n",
              "    </tr>\n",
              "    <tr>\n",
              "      <th>fgroup</th>\n",
              "      <td>Legumes and Legume Products</td>\n",
              "    </tr>\n",
              "    <tr>\n",
              "      <th>manufacturer</th>\n",
              "      <td>None</td>\n",
              "    </tr>\n",
              "  </tbody>\n",
              "</table>\n",
              "</div><br><label><b>dtype:</b> object</label>"
            ]
          },
          "metadata": {},
          "execution_count": 8
        }
      ]
    },
    {
      "cell_type": "markdown",
      "source": [
        "Nhận xét:\n",
        "- Đây là bước “làm phẳng dữ liệu” quan trọng nhất.\n",
        "- Kết quả là bảng chứa hàng trăm nghìn dòng, mỗi dòng biểu diễn một chất dinh dưỡng của một loại thực phẩm.\n",
        "- Cần lưu ý khử trùng lặp để tránh sai số trong phân tích.\n",
        "- Sau khi gộp, mỗi hàng sẽ chứa cả thông tin thực phẩm và chất dinh dưỡng.\n",
        "- Bảng kết quả hoàn chỉnh, có thể dùng trực tiếp cho các phân tích thống kê hoặc trực quan hóa."
      ],
      "metadata": {
        "id": "qDeDRSMWgWwq"
      }
    },
    {
      "cell_type": "markdown",
      "source": [
        "###7. Phân tích 1: median theo nhóm thực phẩm & chất dinh dưỡng + vẽ biểu đồ"
      ],
      "metadata": {
        "id": "Q8wNOj4ecbmR"
      }
    },
    {
      "cell_type": "code",
      "source": [
        "# Median (quantile 0.5) theo (nutrient, fgroup)\n",
        "result = ndata.groupby([\"nutrient\", \"fgroup\"])[\"value\"].quantile(0.5)\n",
        "\n",
        "# Ví dụ: vẽ barh cho kẽm (Zinc, Zn) nếu có\n",
        "if (\"Zinc, Zn\" in result.index.get_level_values(0)):\n",
        "    result.loc[\"Zinc, Zn\"].sort_values().plot(kind=\"barh\", title=\"Median Zinc by Food Group\")\n"
      ],
      "metadata": {
        "colab": {
          "base_uri": "https://localhost:8080/",
          "height": 452
        },
        "id": "8VDR0GRXcbhY",
        "outputId": "27cdb091-e63f-46c7-dbc1-ee48cd06b671"
      },
      "execution_count": null,
      "outputs": [
        {
          "output_type": "display_data",
          "data": {
            "text/plain": [
              "<Figure size 640x480 with 1 Axes>"
            ],
            "image/png": "[encoded data removed]"
          },
          "metadata": {}
        }
      ]
    },
    {
      "cell_type": "markdown",
      "source": [
        "Nhận xét:\n",
        "- Phân tích này cho phép so sánh mức dinh dưỡng giữa các nhóm thực phẩm.\n",
        "- Median được chọn thay vì mean để tránh ảnh hưởng bởi giá trị ngoại lai."
      ],
      "metadata": {
        "id": "i6q1VvAwgiIq"
      }
    },
    {
      "cell_type": "markdown",
      "source": [
        "###8.Phân tích 2:"
      ],
      "metadata": {
        "id": "v_cyxmwicbbO"
      }
    },
    {
      "cell_type": "code",
      "source": [
        "display(max_foods.head(20)[[\"food\"]])"
      ],
      "metadata": {
        "colab": {
          "base_uri": "https://localhost:8080/",
          "height": 708
        },
        "id": "b5C6ABYjcapx",
        "outputId": "603449f7-9e56-4fcf-83c6-75a304a8586c"
      },
      "execution_count": null,
      "outputs": [
        {
          "output_type": "display_data",
          "data": {
            "text/plain": [
              "                                                                                             food\n",
              "nutgroup nutrient                                                                                \n",
              "Unknown  10-Formyl folic acid (10HCOFA)                              Lettuce, cos or romaine, raw\n",
              "         25-hydroxycholecalciferol                                               Egg, yolk, dried\n",
              "         5-Formyltetrahydrofolic acid (5-HCOH4                       Lettuce, cos or romaine, raw\n",
              "         5-methyl tetrahydrofolate (5-MTHF)                                         Collards, raw\n",
              "         Alanine                                                             Flour, soy, defatted\n",
              "         Arginine                                                            Flour, soy, defatted\n",
              "         Ash                                                                 Salt, table, iodized\n",
              "         Aspartic acid                                                       Flour, soy, defatted\n",
              "         Beta-glucan                                     Oats, whole grain, rolled, old fashioned\n",
              "         Beta-sitostanol                                                                Oil, corn\n",
              "         Beta-sitosterol                                                                Oil, corn\n",
              "         Betaine                                        Bread, whole-wheat, commercially prepared\n",
              "         Biotin                                         Sorghum bran, white, unenriched, dry, raw\n",
              "         Boron, B                                                   Beans, Dry, Red (0% moisture)\n",
              "         Brassicasterol                                                               Oil, canola\n",
              "         Calcium, Ca                            Cheese, pasteurized process cheese food or pro...\n",
              "         Campestanol                                                                    Oil, corn\n",
              "         Campesterol                                                                  Oil, canola\n",
              "         Carbohydrate, by difference                                           Sugars, granulated\n",
              "         Carbohydrate, by summation                          Cookies, oatmeal, soft, with raisins"
            ],
            "text/html": [
              "\n",
              "  <div id=\"df-8389ee5a-add4-482e-87cc-f37c9f17e4f7\" class=\"colab-df-container\">\n",
              "    <div>\n",
              "<style scoped>\n",
              "    .dataframe tbody tr th:only-of-type {\n",
              "        vertical-align: middle;\n",
              "    }\n",
              "\n",
              "    .dataframe tbody tr th {\n",
              "        vertical-align: top;\n",
              "    }\n",
              "\n",
              "    .dataframe thead th {\n",
              "        text-align: right;\n",
              "    }\n",
              "</style>\n",
              "<table border=\"1\" class=\"dataframe\">\n",
              "  <thead>\n",
              "    <tr style=\"text-align: right;\">\n",
              "      <th></th>\n",
              "      <th></th>\n",
              "      <th>food</th>\n",
              "    </tr>\n",
              "    <tr>\n",
              "      <th>nutgroup</th>\n",
              "      <th>nutrient</th>\n",
              "      <th></th>\n",
              "    </tr>\n",
              "  </thead>\n",
              "  <tbody>\n",
              "    <tr>\n",
              "      <th rowspan=\"20\" valign=\"top\">Unknown</th>\n",
              "      <th>10-Formyl folic acid (10HCOFA)</th>\n",
              "      <td>Lettuce, cos or romaine, raw</td>\n",
              "    </tr>\n",
              "    <tr>\n",
              "      <th>25-hydroxycholecalciferol</th>\n",
              "      <td>Egg, yolk, dried</td>\n",
              "    </tr>\n",
              "    <tr>\n",
              "      <th>5-Formyltetrahydrofolic acid (5-HCOH4</th>\n",
              "      <td>Lettuce, cos or romaine, raw</td>\n",
              "    </tr>\n",
              "    <tr>\n",
              "      <th>5-methyl tetrahydrofolate (5-MTHF)</th>\n",
              "      <td>Collards, raw</td>\n",
              "    </tr>\n",
              "    <tr>\n",
              "      <th>Alanine</th>\n",
              "      <td>Flour, soy, defatted</td>\n",
              "    </tr>\n",
              "    <tr>\n",
              "      <th>Arginine</th>\n",
              "      <td>Flour, soy, defatted</td>\n",
              "    </tr>\n",
              "    <tr>\n",
              "      <th>Ash</th>\n",
              "      <td>Salt, table, iodized</td>\n",
              "    </tr>\n",
              "    <tr>\n",
              "      <th>Aspartic acid</th>\n",
              "      <td>Flour, soy, defatted</td>\n",
              "    </tr>\n",
              "    <tr>\n",
              "      <th>Beta-glucan</th>\n",
              "      <td>Oats, whole grain, rolled, old fashioned</td>\n",
              "    </tr>\n",
              "    <tr>\n",
              "      <th>Beta-sitostanol</th>\n",
              "      <td>Oil, corn</td>\n",
              "    </tr>\n",
              "    <tr>\n",
              "      <th>Beta-sitosterol</th>\n",
              "      <td>Oil, corn</td>\n",
              "    </tr>\n",
              "    <tr>\n",
              "      <th>Betaine</th>\n",
              "      <td>Bread, whole-wheat, commercially prepared</td>\n",
              "    </tr>\n",
              "    <tr>\n",
              "      <th>Biotin</th>\n",
              "      <td>Sorghum bran, white, unenriched, dry, raw</td>\n",
              "    </tr>\n",
              "    <tr>\n",
              "      <th>Boron, B</th>\n",
              "      <td>Beans, Dry, Red (0% moisture)</td>\n",
              "    </tr>\n",
              "    <tr>\n",
              "      <th>Brassicasterol</th>\n",
              "      <td>Oil, canola</td>\n",
              "    </tr>\n",
              "    <tr>\n",
              "      <th>Calcium, Ca</th>\n",
              "      <td>Cheese, pasteurized process cheese food or pro...</td>\n",
              "    </tr>\n",
              "    <tr>\n",
              "      <th>Campestanol</th>\n",
              "      <td>Oil, corn</td>\n",
              "    </tr>\n",
              "    <tr>\n",
              "      <th>Campesterol</th>\n",
              "      <td>Oil, canola</td>\n",
              "    </tr>\n",
              "    <tr>\n",
              "      <th>Carbohydrate, by difference</th>\n",
              "      <td>Sugars, granulated</td>\n",
              "    </tr>\n",
              "    <tr>\n",
              "      <th>Carbohydrate, by summation</th>\n",
              "      <td>Cookies, oatmeal, soft, with raisins</td>\n",
              "    </tr>\n",
              "  </tbody>\n",
              "</table>\n",
              "</div>\n",
              "    <div class=\"colab-df-buttons\">\n",
              "\n",
              "  <div class=\"colab-df-container\">\n",
              "    <button class=\"colab-df-convert\" onclick=\"convertToInteractive('df-8389ee5a-add4-482e-87cc-f37c9f17e4f7')\"\n",
              "            title=\"Convert this dataframe to an interactive table.\"\n",
              "            style=\"display:none;\">\n",
              "\n",
              "  <svg xmlns=\"http://www.w3.org/2000/svg\" height=\"24px\" viewBox=\"0 -960 960 960\">\n",
              "    <path d=\"M120-120v-720h720v720H120Zm60-500h600v-160H180v160Zm220 220h160v-160H400v160Zm0 220h160v-160H400v160ZM180-400h160v-160H180v160Zm440 0h160v-160H620v160ZM180-180h160v-160H180v160Zm440 0h160v-160H620v160Z\"/>\n",
              "  </svg>\n",
              "    </button>\n",
              "\n",
              "  <style>\n",
              "    .colab-df-container {\n",
              "      display:flex;\n",
              "      gap: 12px;\n",
              "    }\n",
              "\n",
              "    .colab-df-convert {\n",
              "      background-color: #E8F0FE;\n",
              "      border: none;\n",
              "      border-radius: 50%;\n",
              "      cursor: pointer;\n",
              "      display: none;\n",
              "      fill: #1967D2;\n",
              "      height: 32px;\n",
              "      padding: 0 0 0 0;\n",
              "      width: 32px;\n",
              "    }\n",
              "\n",
              "    .colab-df-convert:hover {\n",
              "      background-color: #E2EBFA;\n",
              "      box-shadow: 0px 1px 2px rgba(60, 64, 67, 0.3), 0px 1px 3px 1px rgba(60, 64, 67, 0.15);\n",
              "      fill: #174EA6;\n",
              "    }\n",
              "\n",
              "    .colab-df-buttons div {\n",
              "      margin-bottom: 4px;\n",
              "    }\n",
              "\n",
              "    [theme=dark] .colab-df-convert {\n",
              "      background-color: #3B4455;\n",
              "      fill: #D2E3FC;\n",
              "    }\n",
              "\n",
              "    [theme=dark] .colab-df-convert:hover {\n",
              "      background-color: #434B5C;\n",
              "      box-shadow: 0px 1px 3px 1px rgba(0, 0, 0, 0.15);\n",
              "      filter: drop-shadow(0px 1px 2px rgba(0, 0, 0, 0.3));\n",
              "      fill: #FFFFFF;\n",
              "    }\n",
              "  </style>\n",
              "\n",
              "    <script>\n",
              "      const buttonEl =\n",
              "        document.querySelector('#df-8389ee5a-add4-482e-87cc-f37c9f17e4f7 button.colab-df-convert');\n",
              "      buttonEl.style.display =\n",
              "        google.colab.kernel.accessAllowed ? 'block' : 'none';\n",
              "\n",
              "      async function convertToInteractive(key) {\n",
              "        const element = document.querySelector('#df-8389ee5a-add4-482e-87cc-f37c9f17e4f7');\n",
              "        const dataTable =\n",
              "          await google.colab.kernel.invokeFunction('convertToInteractive',\n",
              "                                                    [key], {});\n",
              "        if (!dataTable) return;\n",
              "\n",
              "        const docLinkHtml = 'Like what you see? Visit the ' +\n",
              "          '<a target=\"_blank\" href=https://colab.research.google.com/notebooks/data_table.ipynb>data table notebook</a>'\n",
              "          + ' to learn more about interactive tables.';\n",
              "        element.innerHTML = '';\n",
              "        dataTable['output_type'] = 'display_data';\n",
              "        await google.colab.output.renderOutput(dataTable, element);\n",
              "        const docLink = document.createElement('div');\n",
              "        docLink.innerHTML = docLinkHtml;\n",
              "        element.appendChild(docLink);\n",
              "      }\n",
              "    </script>\n",
              "  </div>\n",
              "\n",
              "\n",
              "    <div id=\"df-d01e180d-0de6-49fe-bc67-ac9dbd8be33b\">\n",
              "      <button class=\"colab-df-quickchart\" onclick=\"quickchart('df-d01e180d-0de6-49fe-bc67-ac9dbd8be33b')\"\n",
              "                title=\"Suggest charts\"\n",
              "                style=\"display:none;\">\n",
              "\n",
              "<svg xmlns=\"http://www.w3.org/2000/svg\" height=\"24px\"viewBox=\"0 0 24 24\"\n",
              "     width=\"24px\">\n",
              "    <g>\n",
              "        <path d=\"M19 3H5c-1.1 0-2 .9-2 2v14c0 1.1.9 2 2 2h14c1.1 0 2-.9 2-2V5c0-1.1-.9-2-2-2zM9 17H7v-7h2v7zm4 0h-2V7h2v10zm4 0h-2v-4h2v4z\"/>\n",
              "    </g>\n",
              "</svg>\n",
              "      </button>\n",
              "\n",
              "<style>\n",
              "  .colab-df-quickchart {\n",
              "      --bg-color: #E8F0FE;\n",
              "      --fill-color: #1967D2;\n",
              "      --hover-bg-color: #E2EBFA;\n",
              "      --hover-fill-color: #174EA6;\n",
              "      --disabled-fill-color: #AAA;\n",
              "      --disabled-bg-color: #DDD;\n",
              "  }\n",
              "\n",
              "  [theme=dark] .colab-df-quickchart {\n",
              "      --bg-color: #3B4455;\n",
              "      --fill-color: #D2E3FC;\n",
              "      --hover-bg-color: #434B5C;\n",
              "      --hover-fill-color: #FFFFFF;\n",
              "      --disabled-bg-color: #3B4455;\n",
              "      --disabled-fill-color: #666;\n",
              "  }\n",
              "\n",
              "  .colab-df-quickchart {\n",
              "    background-color: var(--bg-color);\n",
              "    border: none;\n",
              "    border-radius: 50%;\n",
              "    cursor: pointer;\n",
              "    display: none;\n",
              "    fill: var(--fill-color);\n",
              "    height: 32px;\n",
              "    padding: 0;\n",
              "    width: 32px;\n",
              "  }\n",
              "\n",
              "  .colab-df-quickchart:hover {\n",
              "    background-color: var(--hover-bg-color);\n",
              "    box-shadow: 0 1px 2px rgba(60, 64, 67, 0.3), 0 1px 3px 1px rgba(60, 64, 67, 0.15);\n",
              "    fill: var(--button-hover-fill-color);\n",
              "  }\n",
              "\n",
              "  .colab-df-quickchart-complete:disabled,\n",
              "  .colab-df-quickchart-complete:disabled:hover {\n",
              "    background-color: var(--disabled-bg-color);\n",
              "    fill: var(--disabled-fill-color);\n",
              "    box-shadow: none;\n",
              "  }\n",
              "\n",
              "  .colab-df-spinner {\n",
              "    border: 2px solid var(--fill-color);\n",
              "    border-color: transparent;\n",
              "    border-bottom-color: var(--fill-color);\n",
              "    animation:\n",
              "      spin 1s steps(1) infinite;\n",
              "  }\n",
              "\n",
              "  @keyframes spin {\n",
              "    0% {\n",
              "      border-color: transparent;\n",
              "      border-bottom-color: var(--fill-color);\n",
              "      border-left-color: var(--fill-color);\n",
              "    }\n",
              "    20% {\n",
              "      border-color: transparent;\n",
              "      border-left-color: var(--fill-color);\n",
              "      border-top-color: var(--fill-color);\n",
              "    }\n",
              "    30% {\n",
              "      border-color: transparent;\n",
              "      border-left-color: var(--fill-color);\n",
              "      border-top-color: var(--fill-color);\n",
              "      border-right-color: var(--fill-color);\n",
              "    }\n",
              "    40% {\n",
              "      border-color: transparent;\n",
              "      border-right-color: var(--fill-color);\n",
              "      border-top-color: var(--fill-color);\n",
              "    }\n",
              "    60% {\n",
              "      border-color: transparent;\n",
              "      border-right-color: var(--fill-color);\n",
              "    }\n",
              "    80% {\n",
              "      border-color: transparent;\n",
              "      border-right-color: var(--fill-color);\n",
              "      border-bottom-color: var(--fill-color);\n",
              "    }\n",
              "    90% {\n",
              "      border-color: transparent;\n",
              "      border-bottom-color: var(--fill-color);\n",
              "    }\n",
              "  }\n",
              "</style>\n",
              "\n",
              "      <script>\n",
              "        async function quickchart(key) {\n",
              "          const quickchartButtonEl =\n",
              "            document.querySelector('#' + key + ' button');\n",
              "          quickchartButtonEl.disabled = true;  // To prevent multiple clicks.\n",
              "          quickchartButtonEl.classList.add('colab-df-spinner');\n",
              "          try {\n",
              "            const charts = await google.colab.kernel.invokeFunction(\n",
              "                'suggestCharts', [key], {});\n",
              "          } catch (error) {\n",
              "            console.error('Error during call to suggestCharts:', error);\n",
              "          }\n",
              "          quickchartButtonEl.classList.remove('colab-df-spinner');\n",
              "          quickchartButtonEl.classList.add('colab-df-quickchart-complete');\n",
              "        }\n",
              "        (() => {\n",
              "          let quickchartButtonEl =\n",
              "            document.querySelector('#df-d01e180d-0de6-49fe-bc67-ac9dbd8be33b button');\n",
              "          quickchartButtonEl.style.display =\n",
              "            google.colab.kernel.accessAllowed ? 'block' : 'none';\n",
              "        })();\n",
              "      </script>\n",
              "    </div>\n",
              "\n",
              "    </div>\n",
              "  </div>\n"
            ],
            "application/vnd.google.colaboratory.intrinsic+json": {
              "type": "dataframe",
              "summary": "{\n  \"name\": \"display(max_foods\",\n  \"rows\": 20,\n  \"fields\": [\n    {\n      \"column\": \"food\",\n      \"properties\": {\n        \"dtype\": \"string\",\n        \"num_unique_values\": 14,\n        \"samples\": [\n          \"Beans, Dry, Red (0% moisture)\",\n          \"Cheese, pasteurized process cheese food or product\",\n          \"Lettuce, cos or romaine, raw\"\n        ],\n        \"semantic_type\": \"\",\n        \"description\": \"\"\n      }\n    }\n  ]\n}"
            }
          },
          "metadata": {}
        }
      ]
    },
    {
      "cell_type": "markdown",
      "source": [
        "========================================================================================================"
      ],
      "metadata": {
        "id": "V4UeLZrSot0i"
      }
    },
    {
      "cell_type": "markdown",
      "source": [
        "##A.5 Structured and Record Arrays"
      ],
      "metadata": {
        "id": "HUg1l3TPouQX"
      }
    },
    {
      "cell_type": "code",
      "source": [
        "import numpy as np\n",
        "\n",
        "# Khai báo kiểu dữ liệu có tên trường\n",
        "dtype = [('x', np.float64), ('y', np.int32)]\n",
        "\n",
        "# Tạo mảng structured từ các bản ghi (tuple)\n",
        "sarr = np.array([(1.5, 6), (np.pi, -2)], dtype=dtype)\n",
        "\n",
        "sarr\n",
        "# array([(1.5      ,  6), (3.1416..., -2)], dtype=[('x','<f8'),('y','<i4')])\n",
        "\n",
        "sarr[0]          # -> (1.5, 6)\n",
        "sarr[0]['y']     # -> 6\n",
        "sarr['x']        # -> array([1.5, 3.1416...])"
      ],
      "metadata": {
        "colab": {
          "base_uri": "https://localhost:8080/"
        },
        "id": "aQozSk5Apdb2",
        "outputId": "4a0b9b90-de40-42a5-9738-64e1f5f9e668"
      },
      "execution_count": null,
      "outputs": [
        {
          "output_type": "execute_result",
          "data": {
            "text/plain": [
              "array([1.5       , 3.14159265])"
            ]
          },
          "metadata": {},
          "execution_count": 13
        }
      ]
    },
    {
      "cell_type": "markdown",
      "source": [
        "Nhận xét:\n",
        "\n",
        "- dtype=[('field', dtype), ...] biến mỗi phần tử thành “bản ghi” có nhiều cột.\n",
        "- Truy cập như dict theo tên trường (arr['x']) hoặc theo bản ghi (arr[i]).\n",
        "- Mỗi trường có kiểu riêng, hữu dụng khi cần dữ liệu không đồng nhất (heterogeneous) nhưng vẫn nằm trong một block bộ nhớ NumPy."
      ],
      "metadata": {
        "id": "XCThUSJvphvk"
      }
    },
    {
      "cell_type": "code",
      "source": [
        "# 'x' là trường 1D có độ dài 3 cho mỗi bản ghi\n",
        "dtype = [('x', np.int64, 3), ('y', np.int32)]\n",
        "\n",
        "arr = np.zeros(4, dtype=dtype)\n",
        "\n",
        "arr\n",
        "# array([([0,0,0], 0), ([0,0,0], 0), ([0,0,0], 0), ([0,0,0], 0)],\n",
        "#       dtype=[('x','<i8',(3,)), ('y','<i4')])\n",
        "\n",
        "arr[0]['x']   # -> array([0, 0, 0])\n",
        "arr['x']      # -> 2D view shape (4, 3)"
      ],
      "metadata": {
        "colab": {
          "base_uri": "https://localhost:8080/"
        },
        "id": "EoMFrLuJprPn",
        "outputId": "cce166a6-ae3b-4cf6-c5d0-8663b0aefd89"
      },
      "execution_count": null,
      "outputs": [
        {
          "output_type": "execute_result",
          "data": {
            "text/plain": [
              "array([[0, 0, 0],\n",
              "       [0, 0, 0],\n",
              "       [0, 0, 0],\n",
              "       [0, 0, 0]])"
            ]
          },
          "metadata": {},
          "execution_count": 14
        }
      ]
    },
    {
      "cell_type": "markdown",
      "source": [
        "Nhận xét:\n",
        "- Có thể gán shape cho một trường: ('x', dtype, shape).\n",
        "- Truy cập arr['x'] trả về mảng 2D (số bản ghi × kích thước trường).\n",
        "- Hữu ích khi mỗi bản ghi chứa vector/ma trận cố định (ví dụ tọa độ 3D, RGB,…)."
      ],
      "metadata": {
        "id": "0POBAvAnpsht"
      }
    },
    {
      "cell_type": "code",
      "source": [
        "# 'x' là sub-dtype gồm 2 trường 'a' (float64) và 'b' (float32)\n",
        "dtype = [\n",
        "    ('x', [('a', 'f8'), ('b', 'f4')]),\n",
        "    ('y', np.int32)\n",
        "]\n",
        "\n",
        "data = np.array([((1., 2.), 5), ((3., 4.), 6)], dtype=dtype)\n",
        "\n",
        "data['x']\n",
        "# array([(1., 2.), (3., 4.)], dtype=[('a','<f8'), ('b','<f4')])\n",
        "\n",
        "data['y']\n",
        "# array([5, 6], dtype=int32)\n",
        "\n",
        "data['x']['a']\n",
        "# array([1., 3.])\n"
      ],
      "metadata": {
        "colab": {
          "base_uri": "https://localhost:8080/"
        },
        "id": "H4nT7nhIqGEz",
        "outputId": "6e71bf94-f7c5-4283-ae7f-c9817c4e8b70"
      },
      "execution_count": null,
      "outputs": [
        {
          "output_type": "execute_result",
          "data": {
            "text/plain": [
              "array([1., 3.])"
            ]
          },
          "metadata": {},
          "execution_count": 15
        }
      ]
    },
    {
      "cell_type": "markdown",
      "source": [
        "Nhận xét:\n",
        "- Cho phép cấu trúc lồng nhau: một trường chứa nhiều trường con.\n",
        "- Truy cập có thể xâu chuỗi: data['x']['a'].\n",
        "- Rất gọn khi mô tả cấu trúc ghi dữ liệu nhị phân (giống struct trong C)."
      ],
      "metadata": {
        "id": "tV3ZlKPQqHTj"
      }
    },
    {
      "cell_type": "markdown",
      "source": [
        "###Why Use Structured Arrays?"
      ],
      "metadata": {
        "id": "1au0VorJqTp1"
      }
    },
    {
      "cell_type": "markdown",
      "source": [
        "Ở mức thấp hơn DataFrame, structured arrays cho cách diễn giải bộ nhớ liên tục như bảng có cột đặt tên, mỗi cột có kiểu cố định → ghi/đọc I/O nhị phân nhanh, truyền qua mạng/ mmap thuận tiện.\n",
        "Sơ đồ bộ nhớ (size, byte order, alignment) bám theo quy tắc struct của C → dễ tương tác với dữ liệu từ C/C++/nhúng.\n",
        "Dùng khi bạn cần:\n",
        "- Định dạng bản ghi cố định (fixed-length records).\n",
        "- np.fromfile / tofile với binary stream biết trước layout.\n",
        "- Khai thác hiệu năng NumPy mà vẫn cần nhiều “cột” dị kiểu.\n",
        "\n",
        "Nếu cần thao tác dữ liệu “tabular” cấp cao (groupby/join/NA), pandas DataFrame phù hợp hơn; structured arrays thiên về hiệu năng & nhị phân."
      ],
      "metadata": {
        "id": "UT4e-5cXppRz"
      }
    },
    {
      "cell_type": "markdown",
      "source": [
        "================================================================================"
      ],
      "metadata": {
        "id": "mD1VAHbzujYm"
      }
    },
    {
      "cell_type": "markdown",
      "source": [
        "##A.6 More About Sorting"
      ],
      "metadata": {
        "id": "xjpD2RkGxIXM"
      }
    },
    {
      "cell_type": "markdown",
      "source": [
        "####Sắp xếp mảng cơ bản với .sort()"
      ],
      "metadata": {
        "id": "iWzHFjIRxNAe"
      }
    },
    {
      "cell_type": "code",
      "source": [
        "\n",
        "rng = np.random.default_rng()\n",
        "arr = rng.standard_normal(6)\n",
        "\n",
        "# Sắp xếp tại chỗ (in-place sort)\n",
        "arr.sort()"
      ],
      "metadata": {
        "id": "ebXIKBXoxQZ9"
      },
      "execution_count": null,
      "outputs": []
    },
    {
      "cell_type": "code",
      "source": [
        "arr"
      ],
      "metadata": {
        "colab": {
          "base_uri": "https://localhost:8080/"
        },
        "id": "lI7Mn4-LxhTq",
        "outputId": "5456ee97-df2e-49f2-890e-e5aa1d450ee1"
      },
      "execution_count": null,
      "outputs": [
        {
          "output_type": "execute_result",
          "data": {
            "text/plain": [
              "array([-1.13083507,  0.46705525,  0.64000856,  0.83663673,  0.88334978,\n",
              "        1.94695439])"
            ]
          },
          "metadata": {},
          "execution_count": 19
        }
      ]
    },
    {
      "cell_type": "markdown",
      "source": [
        "####Sắp xếp mảng 2 chiều"
      ],
      "metadata": {
        "id": "3eUsWxJXxjxQ"
      }
    },
    {
      "cell_type": "code",
      "source": [
        "arr = rng.standard_normal((3, 5))\n",
        "arr\n",
        "# array([[...], [...], [...]])\n"
      ],
      "metadata": {
        "colab": {
          "base_uri": "https://localhost:8080/"
        },
        "id": "ntvkTcmKxnkK",
        "outputId": "0e5d84fa-7314-4bae-ab3c-d8833b9d64f2"
      },
      "execution_count": null,
      "outputs": [
        {
          "output_type": "execute_result",
          "data": {
            "text/plain": [
              "array([[ 1.64107893,  0.78925332, -1.41247273,  0.66181766,  1.82261035],\n",
              "       [-0.14977528, -1.2374418 ,  0.70001426, -0.06019504, -0.3117706 ],\n",
              "       [-0.685241  , -1.0263573 ,  1.16358554, -1.27941799, -1.10467   ]])"
            ]
          },
          "metadata": {},
          "execution_count": 20
        }
      ]
    },
    {
      "cell_type": "code",
      "source": [
        "arr[:, 0].sort()"
      ],
      "metadata": {
        "id": "GdZ7N903xu_Z"
      },
      "execution_count": null,
      "outputs": []
    },
    {
      "cell_type": "code",
      "source": [
        "arr = rng.standard_normal(5)\n",
        "np.sort(arr)"
      ],
      "metadata": {
        "colab": {
          "base_uri": "https://localhost:8080/"
        },
        "id": "2LAO4jXyxx6z",
        "outputId": "36e056b6-36d1-494b-fea8-0cf537e00086"
      },
      "execution_count": null,
      "outputs": [
        {
          "output_type": "execute_result",
          "data": {
            "text/plain": [
              "array([-1.95014093,  0.08078644,  0.75510318,  1.40897034,  2.24006642])"
            ]
          },
          "metadata": {},
          "execution_count": 22
        }
      ]
    },
    {
      "cell_type": "markdown",
      "source": [
        "####Sắp xếp theo trục"
      ],
      "metadata": {
        "id": "sb5qfJufxnWD"
      }
    },
    {
      "cell_type": "code",
      "source": [
        "arr = rng.standard_normal((3, 5))\n",
        "arr.sort(axis=1)\n"
      ],
      "metadata": {
        "id": "EVrpiFLRxnP-"
      },
      "execution_count": null,
      "outputs": []
    },
    {
      "cell_type": "code",
      "source": [
        "arr[:, ::-1]"
      ],
      "metadata": {
        "colab": {
          "base_uri": "https://localhost:8080/"
        },
        "id": "mHEdfKmrx7bD",
        "outputId": "b9484c57-315d-4aff-9d3e-f1909ba18730"
      },
      "execution_count": null,
      "outputs": [
        {
          "output_type": "execute_result",
          "data": {
            "text/plain": [
              "array([[ 0.6328934 ,  0.27688752, -0.26279704, -0.80251228, -1.84858491],\n",
              "       [-0.03813898, -0.67878769, -0.77882007, -1.81487786, -1.8294623 ],\n",
              "       [ 2.35218514, -0.07578129, -0.34093041, -0.78391164, -0.85155488]])"
            ]
          },
          "metadata": {},
          "execution_count": 24
        }
      ]
    },
    {
      "cell_type": "markdown",
      "source": [
        "Nhận xét:\n",
        "\n",
        "- NumPy không có tùy chọn reverse=True,\n",
        "nhưng ta có thể đảo mảng bằng slicing [::-1].\n",
        "- Rất tiện lợi và không tốn chi phí tính toán (chỉ tạo view mới)."
      ],
      "metadata": {
        "id": "UQhmEsePx4p-"
      }
    },
    {
      "cell_type": "markdown",
      "source": [
        "####Indirect Sorts – Sắp xếp gián tiếp với argsort() và lexsort()"
      ],
      "metadata": {
        "id": "711YekCiyEF7"
      }
    },
    {
      "cell_type": "code",
      "source": [
        "values = np.array([5, 0, 1, 3, 2])\n",
        "indexer = values.argsort()\n",
        "values[indexer]"
      ],
      "metadata": {
        "colab": {
          "base_uri": "https://localhost:8080/"
        },
        "id": "FlwejcTLyH4n",
        "outputId": "d6782373-622d-4a12-9947-6613c128fba9"
      },
      "execution_count": null,
      "outputs": [
        {
          "output_type": "execute_result",
          "data": {
            "text/plain": [
              "array([0, 1, 2, 3, 5])"
            ]
          },
          "metadata": {},
          "execution_count": 25
        }
      ]
    },
    {
      "cell_type": "markdown",
      "source": [
        "- argsort() trả về chỉ số sắp xếp (indices) thay vì giá trị.\n",
        "- Dùng để áp dụng cùng thứ tự sắp xếp cho mảng khác, rất hữu ích khi xử lý DataFrame-like."
      ],
      "metadata": {
        "id": "OW9vlStJyLCe"
      }
    },
    {
      "cell_type": "code",
      "source": [
        "arr = rng.standard_normal((3, 5))\n",
        "arr[0] = values\n",
        "arr[:, arr[0].argsort()]"
      ],
      "metadata": {
        "colab": {
          "base_uri": "https://localhost:8080/"
        },
        "id": "O8kHLtdMyY2M",
        "outputId": "c37abd3c-b8e9-4266-a751-293848a6eaac"
      },
      "execution_count": null,
      "outputs": [
        {
          "output_type": "execute_result",
          "data": {
            "text/plain": [
              "array([[ 0.        ,  1.        ,  2.        ,  3.        ,  5.        ],\n",
              "       [ 1.76156868,  0.61542967,  0.30743012,  0.6593856 , -0.10127865],\n",
              "       [-0.2544994 ,  0.24276026, -1.05691862,  0.87286063, -0.47594574]])"
            ]
          },
          "metadata": {},
          "execution_count": 26
        }
      ]
    },
    {
      "cell_type": "markdown",
      "source": [
        "####Sắp xếp theo nhiều khóa"
      ],
      "metadata": {
        "id": "Gu8-_1O4xnIB"
      }
    },
    {
      "cell_type": "code",
      "source": [
        "first_name = np.array(['Bob', 'Jane', 'Steve', 'Bill', 'Barbara'])\n",
        "last_name  = np.array(['Jones', 'Arnold', 'Arnold', 'Jones', 'Walters'])\n",
        "\n",
        "sorter = np.lexsort((first_name, last_name))\n",
        "list(zip(last_name[sorter], first_name[sorter]))"
      ],
      "metadata": {
        "colab": {
          "base_uri": "https://localhost:8080/"
        },
        "id": "PITTzLTtxm9l",
        "outputId": "4eaa3000-df1f-4475-fcd4-bbd17632fc93"
      },
      "execution_count": null,
      "outputs": [
        {
          "output_type": "execute_result",
          "data": {
            "text/plain": [
              "[(np.str_('Arnold'), np.str_('Jane')),\n",
              " (np.str_('Arnold'), np.str_('Steve')),\n",
              " (np.str_('Jones'), np.str_('Bill')),\n",
              " (np.str_('Jones'), np.str_('Bob')),\n",
              " (np.str_('Walters'), np.str_('Barbara'))]"
            ]
          },
          "metadata": {},
          "execution_count": 27
        }
      ]
    },
    {
      "cell_type": "markdown",
      "source": [
        "Nhận xét:\n",
        "- lexsort() cho phép sắp xếp theo nhiều khóa (multi-key sort).\n",
        " - Thứ tự ưu tiên bắt đầu từ mảng cuối cùng (ở đây là last_name).\n",
        "- Giống với việc ORDER BY last_name, first_name trong SQL."
      ],
      "metadata": {
        "id": "_ysb6D8-yftA"
      }
    },
    {
      "cell_type": "markdown",
      "source": [
        "####Stable Sorting Algorithms"
      ],
      "metadata": {
        "id": "nN2TUgW2yxst"
      }
    },
    {
      "cell_type": "code",
      "source": [
        "values = np.array(['2:first', '2:second', '1:first', '1:second', '1:third'])\n",
        "key = np.array([2, 2, 1, 1, 1])\n",
        "indexer = key.argsort(kind='mergesort')\n",
        "values.take(indexer)"
      ],
      "metadata": {
        "colab": {
          "base_uri": "https://localhost:8080/"
        },
        "id": "yUTHMDsGynam",
        "outputId": "f2a29a1f-4b88-410b-ab50-ecf3225faca3"
      },
      "execution_count": null,
      "outputs": [
        {
          "output_type": "execute_result",
          "data": {
            "text/plain": [
              "array(['1:first', '1:second', '1:third', '2:first', '2:second'],\n",
              "      dtype='<U8')"
            ]
          },
          "metadata": {},
          "execution_count": 28
        }
      ]
    },
    {
      "cell_type": "markdown",
      "source": [
        "####Partially Sorting Arrays"
      ],
      "metadata": {
        "id": "wSonApa8xdYS"
      }
    },
    {
      "cell_type": "code",
      "source": [
        "rng = np.random.default_rng(12345)\n",
        "arr = rng.standard_normal(20)\n",
        "np.partition(arr, 3)\n",
        "np.argpartition(arr, 3)"
      ],
      "metadata": {
        "colab": {
          "base_uri": "https://localhost:8080/"
        },
        "id": "fCmad1ERy8yT",
        "outputId": "aca77dfd-6936-480e-dde2-a1be33f1b7e9"
      },
      "execution_count": null,
      "outputs": [
        {
          "output_type": "execute_result",
          "data": {
            "text/plain": [
              "array([ 9,  0,  6, 17,  2, 12,  5, 14,  3,  4, 15,  8, 18,  7, 16, 13, 11,\n",
              "        1, 19, 10])"
            ]
          },
          "metadata": {},
          "execution_count": 29
        }
      ]
    },
    {
      "cell_type": "code",
      "source": [
        "arr = np.array([0, 1, 7, 12, 15])\n",
        "arr.searchsorted(9)"
      ],
      "metadata": {
        "colab": {
          "base_uri": "https://localhost:8080/"
        },
        "id": "b8n9qf8CzBGp",
        "outputId": "fb8c0ecf-628b-41d8-e773-0328f9e749ab"
      },
      "execution_count": null,
      "outputs": [
        {
          "output_type": "execute_result",
          "data": {
            "text/plain": [
              "np.int64(3)"
            ]
          },
          "metadata": {},
          "execution_count": 30
        }
      ]
    },
    {
      "cell_type": "code",
      "source": [
        "arr.searchsorted([0, 8, 11, 16])\n",
        "arr = np.array([0, 0, 1, 1, 1, 1])\n",
        "arr.searchsorted([0, 1], side='right')\n"
      ],
      "metadata": {
        "colab": {
          "base_uri": "https://localhost:8080/"
        },
        "id": "DyUNsuIdzEpA",
        "outputId": "fa54c6ab-e6ce-4e52-8ba9-945a3002f22e"
      },
      "execution_count": null,
      "outputs": [
        {
          "output_type": "execute_result",
          "data": {
            "text/plain": [
              "array([2, 6])"
            ]
          },
          "metadata": {},
          "execution_count": 32
        }
      ]
    },
    {
      "cell_type": "code",
      "source": [
        "data = np.floor(rng.uniform(0, 10000, size=50))\n",
        "bins = np.array([0, 100, 1000, 5000, 10000])\n",
        "labels = bins.searchsorted(data)\n",
        "pd.Series(data).groupby(labels).mean()"
      ],
      "metadata": {
        "colab": {
          "base_uri": "https://localhost:8080/",
          "height": 210
        },
        "id": "mv2uQWYBzKsp",
        "outputId": "5446765e-18e6-491d-d0e3-e26dd2bf6898"
      },
      "execution_count": null,
      "outputs": [
        {
          "output_type": "execute_result",
          "data": {
            "text/plain": [
              "1      50.000000\n",
              "2     803.666667\n",
              "3    3079.741935\n",
              "4    7635.200000\n",
              "dtype: float64"
            ],
            "text/html": [
              "<div>\n",
              "<style scoped>\n",
              "    .dataframe tbody tr th:only-of-type {\n",
              "        vertical-align: middle;\n",
              "    }\n",
              "\n",
              "    .dataframe tbody tr th {\n",
              "        vertical-align: top;\n",
              "    }\n",
              "\n",
              "    .dataframe thead th {\n",
              "        text-align: right;\n",
              "    }\n",
              "</style>\n",
              "<table border=\"1\" class=\"dataframe\">\n",
              "  <thead>\n",
              "    <tr style=\"text-align: right;\">\n",
              "      <th></th>\n",
              "      <th>0</th>\n",
              "    </tr>\n",
              "  </thead>\n",
              "  <tbody>\n",
              "    <tr>\n",
              "      <th>1</th>\n",
              "      <td>50.000000</td>\n",
              "    </tr>\n",
              "    <tr>\n",
              "      <th>2</th>\n",
              "      <td>803.666667</td>\n",
              "    </tr>\n",
              "    <tr>\n",
              "      <th>3</th>\n",
              "      <td>3079.741935</td>\n",
              "    </tr>\n",
              "    <tr>\n",
              "      <th>4</th>\n",
              "      <td>7635.200000</td>\n",
              "    </tr>\n",
              "  </tbody>\n",
              "</table>\n",
              "</div><br><label><b>dtype:</b> float64</label>"
            ]
          },
          "metadata": {},
          "execution_count": 33
        }
      ]
    },
    {
      "cell_type": "markdown",
      "source": [
        "#Kết Thúc"
      ],
      "metadata": {
        "id": "ktz5VdgGTnpt"
      }
    }
  ]
}